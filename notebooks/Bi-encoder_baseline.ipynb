{
 "cells": [
  {
   "cell_type": "code",
   "execution_count": 1,
   "metadata": {},
   "outputs": [],
   "source": [
    "import os, sys\n",
    "import pandas as pd\n",
    "import json\n",
    "\n",
    "sys.path.append(os.path.join(os.getcwd(), '../src'))\n",
    "from crossEncoder import CrossEncoderReranker\n",
    "import faissEncoder as faiss_enc\n",
    "from metrics import calculate_topk_accuracy\n",
    "from utils import *\n"
   ]
  },
  {
   "cell_type": "code",
   "execution_count": 2,
   "metadata": {},
   "outputs": [],
   "source": [
    "CORPUS = \"MedProcNER\"\n",
    "ClinLinker_model = {\n",
    "    \"DisTEMIST\" : \"ClinLinker-KB-GP\",\n",
    "    \"MedProcNER\" : \"ClinLinker-KB-GP\",\n",
    "    \"SympTEMIST\" : \"ClinLinker-KB-P\"\n",
    "}\n",
    "F_TYPE = \"FlatIP\"\n",
    "MAX_LENGTH = 256\n",
    "\n",
    "DATA_PATH = \"../../data/\"\n",
    "TOP_K_VALUES = [1, 5, 25, 50, 100, 200]\n"
   ]
  },
  {
   "cell_type": "code",
   "execution_count": 3,
   "metadata": {},
   "outputs": [],
   "source": [
    "um_results, uc_results = dict(), dict()\n",
    "um_df = pd.read_csv(f\"../data/{CORPUS}/df_um.tsv\", sep=\"\\t\", dtype={\"code\":str})\n",
    "uc_df = pd.read_csv(f\"../data/{CORPUS}/df_uc.tsv\", sep=\"\\t\", dtype={\"code\":str})\n",
    "_, train_df, gaz_df = load_corpus_data(DATA_PATH, CORPUS)\n",
    "train_gaz_df = pd.concat([train_df[[\"term\", \"code\"]], gaz_df[[\"term\",\"code\"]]], ignore_index=True)"
   ]
  },
  {
   "cell_type": "code",
   "execution_count": 4,
   "metadata": {},
   "outputs": [
    {
     "data": {
      "application/vnd.jupyter.widget-view+json": {
       "model_id": "23ec179c43954164a9a8802f021bc591",
       "version_major": 2,
       "version_minor": 0
      },
      "text/plain": [
       "Encoding:   0%|          | 0/7486 [00:00<?, ?it/s]"
      ]
     },
     "metadata": {},
     "output_type": "display_data"
    },
    {
     "data": {
      "application/vnd.jupyter.widget-view+json": {
       "model_id": "2b41338d6c60402f817a6e9b1ab9110a",
       "version_major": 2,
       "version_minor": 0
      },
      "text/plain": [
       "Encoding:   0%|          | 0/28 [00:00<?, ?it/s]"
      ]
     },
     "metadata": {},
     "output_type": "display_data"
    },
    {
     "data": {
      "application/vnd.jupyter.widget-view+json": {
       "model_id": "d9fde31a7c8640849da9456c0f57515e",
       "version_major": 2,
       "version_minor": 0
      },
      "text/plain": [
       "Encoding:   0%|          | 0/14 [00:00<?, ?it/s]"
      ]
     },
     "metadata": {},
     "output_type": "display_data"
    }
   ],
   "source": [
    "MODEL = \"cambridgeltl/SapBERT-UMLS-2020AB-all-lang-from-XLMR-large\"\n",
    "faiss_encoder = faiss_enc.FaissEncoder(MODEL, F_TYPE, MAX_LENGTH, train_gaz_df)\n",
    "faiss_encoder.fitFaiss()\n",
    "\n",
    "candidates, codes, _ = faiss_encoder.getCandidates(um_df[\"term\"].tolist(), k=200)\n",
    "xlmr_um_preds = um_df.copy()\n",
    "xlmr_um_preds[\"candidates\"] = candidates\n",
    "xlmr_um_preds[\"codes\"] = codes\n",
    "\n",
    "candidates, codes, _ = faiss_encoder.getCandidates(uc_df[\"term\"].tolist(), k=200)\n",
    "xlmr_uc_preds = uc_df.copy()\n",
    "xlmr_uc_preds[\"candidates\"] = candidates\n",
    "xlmr_uc_preds[\"codes\"] = codes\n",
    "\n",
    "um_results[MODEL.split(\"/\")[-1]+\"-bi\"] = calculate_topk_accuracy(xlmr_um_preds, TOP_K_VALUES)\n",
    "uc_results[MODEL.split(\"/\")[-1]+\"-bi\"] = calculate_topk_accuracy(xlmr_uc_preds, TOP_K_VALUES)\n"
   ]
  },
  {
   "cell_type": "code",
   "execution_count": 5,
   "metadata": {},
   "outputs": [
    {
     "data": {
      "application/vnd.jupyter.widget-view+json": {
       "model_id": "b7c207ec7644455f834177e1b0e8b25b",
       "version_major": 2,
       "version_minor": 0
      },
      "text/plain": [
       "Encoding:   0%|          | 0/7486 [00:00<?, ?it/s]"
      ]
     },
     "metadata": {},
     "output_type": "display_data"
    },
    {
     "data": {
      "application/vnd.jupyter.widget-view+json": {
       "model_id": "ee1a1a14e06946c4aafe2b1f52b4f11f",
       "version_major": 2,
       "version_minor": 0
      },
      "text/plain": [
       "Encoding:   0%|          | 0/28 [00:00<?, ?it/s]"
      ]
     },
     "metadata": {},
     "output_type": "display_data"
    },
    {
     "data": {
      "application/vnd.jupyter.widget-view+json": {
       "model_id": "fa71c4c95eec439b8b62d4873d795810",
       "version_major": 2,
       "version_minor": 0
      },
      "text/plain": [
       "Encoding:   0%|          | 0/14 [00:00<?, ?it/s]"
      ]
     },
     "metadata": {},
     "output_type": "display_data"
    }
   ],
   "source": [
    "if ClinLinker_model[CORPUS] == \"ClinLinker-KB-GP\":\n",
    "        be_path = f\"../../models/NEL/spanish_sapbert_models/sapbert_15_grandparents_1epoch/\"\n",
    "        ce_path = f\"../../models/NEL/cross-encoders/Spanish_SapBERT_grandparents/cef_{CORPUS.lower()}_Spanish_SapBERT_grandparents_sim_cand_200_epoch_1_bs_128/\"\n",
    "elif ClinLinker_model[CORPUS] == \"ClinLinker-KB-P\":\n",
    "    be_path = \"../../models/NEL/spanish_sapbert_models/sapbert_15_parents_1epoch/\"\n",
    "    ce_path = f\"../../models/NEL/cross-encoders/Spanish_SapBERT_parents/cef_{CORPUS.lower()}_Spanish_SapBERT_parents_sim_cand_200_epoch_1_bs_128/\"\n",
    "\n",
    "faiss_encoder = faiss_enc.FaissEncoder(be_path, F_TYPE, MAX_LENGTH, train_gaz_df)\n",
    "faiss_encoder.fitFaiss()\n",
    "candidates, codes, _ = faiss_encoder.getCandidates(um_df[\"term\"].tolist(), k=200)\n",
    "cl_um_preds = um_df.copy()\n",
    "cl_um_preds[\"candidates\"] = candidates\n",
    "cl_um_preds[\"codes\"] = codes\n",
    "\n",
    "candidates, codes, _ = faiss_encoder.getCandidates(uc_df[\"term\"].tolist(), k=200)\n",
    "cl_uc_preds = uc_df.copy()\n",
    "cl_uc_preds[\"candidates\"] = candidates\n",
    "cl_uc_preds[\"codes\"] = codes\n",
    "\n",
    "um_results[be_path.split(\"/\")[5]+\"-bi\"] = calculate_topk_accuracy(cl_um_preds, TOP_K_VALUES)\n",
    "uc_results[be_path.split(\"/\")[5]+\"-bi\"] = calculate_topk_accuracy(cl_uc_preds, TOP_K_VALUES)"
   ]
  },
  {
   "cell_type": "code",
   "execution_count": 6,
   "metadata": {},
   "outputs": [],
   "source": [
    "pd.DataFrame.from_dict(um_results, orient='index').reset_index().rename(columns={'index': 'name'}).to_csv(f\"../results/{CORPUS}/um_results-bi.tsv\", sep='\\t', index=False)"
   ]
  },
  {
   "cell_type": "code",
   "execution_count": 7,
   "metadata": {},
   "outputs": [],
   "source": [
    "pd.DataFrame.from_dict(uc_results, orient='index').reset_index().rename(columns={'index': 'name'}).to_csv(f\"../results/{CORPUS}/uc_results-bi.tsv\", sep='\\t', index=False)"
   ]
  }
 ],
 "metadata": {
  "kernelspec": {
   "display_name": "kg_env",
   "language": "python",
   "name": "python3"
  },
  "language_info": {
   "codemirror_mode": {
    "name": "ipython",
    "version": 3
   },
   "file_extension": ".py",
   "mimetype": "text/x-python",
   "name": "python",
   "nbconvert_exporter": "python",
   "pygments_lexer": "ipython3",
   "version": "3.10.12"
  }
 },
 "nbformat": 4,
 "nbformat_minor": 2
}
