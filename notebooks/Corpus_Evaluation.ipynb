{
 "cells": [
  {
   "cell_type": "code",
   "execution_count": 1,
   "metadata": {},
   "outputs": [],
   "source": [
    "import os, sys\n",
    "import pandas as pd\n",
    "import json\n",
    "\n",
    "sys.path.append(os.path.join(os.getcwd(), '../src'))\n",
    "from crossEncoder import CrossEncoderReranker\n",
    "import faissEncoder as faiss_enc\n",
    "from metrics import calculate_topk_accuracy\n",
    "from utils import *\n"
   ]
  },
  {
   "cell_type": "code",
   "execution_count": 2,
   "metadata": {},
   "outputs": [],
   "source": [
    "CORPUS = \"DisTEMIST\"\n",
    "ClinLinker_model = {\n",
    "    \"DisTEMIST\" : \"ClinLinker-KB-GP\",\n",
    "    \"MedProcNER\" : \"ClinLinker-KB-GP\",\n",
    "    \"SympTEMIST\" : \"ClinLinker-KB-P\"\n",
    "}\n",
    "F_TYPE = \"FlatIP\"\n",
    "MAX_LENGTH = 256\n",
    "\n",
    "DATA_PATH = \"../../data/\"\n",
    "TOP_K_VALUES = [1, 5, 25, 50, 100, 200]\n"
   ]
  },
  {
   "cell_type": "code",
   "execution_count": 3,
   "metadata": {},
   "outputs": [],
   "source": [
    "um_results, uc_results = dict(), dict()\n",
    "um_df = pd.read_csv(f\"../data/{CORPUS}/df_um.tsv\", sep=\"\\t\", dtype={\"code\":str})\n",
    "uc_df = pd.read_csv(f\"../data/{CORPUS}/df_uc.tsv\", sep=\"\\t\", dtype={\"code\":str})\n",
    "_, train_df, gaz_df = load_corpus_data(DATA_PATH, CORPUS)\n",
    "train_gaz_df = pd.concat([train_df[[\"term\", \"code\"]], gaz_df[[\"term\",\"code\"]]], ignore_index=True)"
   ]
  },
  {
   "cell_type": "code",
   "execution_count": 4,
   "metadata": {},
   "outputs": [
    {
     "name": "stderr",
     "output_type": "stream",
     "text": [
      "/home/fernandogd/.conda/envs/kg_env/lib/python3.10/site-packages/huggingface_hub/file_download.py:1150: FutureWarning: `resume_download` is deprecated and will be removed in version 1.0.0. Downloads always resume when possible. If you want to force a new download, use `force_download=True`.\n",
      "  warnings.warn(\n",
      "/home/fernandogd/.conda/envs/kg_env/lib/python3.10/site-packages/torch/_utils.py:776: UserWarning: TypedStorage is deprecated. It will be removed in the future and UntypedStorage will be the only storage class. This should only matter to you if you are using storages directly.  To access UntypedStorage directly, use tensor.untyped_storage() instead of tensor.storage()\n",
      "  return self.fget.__get__(instance, owner)()\n"
     ]
    },
    {
     "data": {
      "application/vnd.jupyter.widget-view+json": {
       "model_id": "ee8a19a9217248a985657b93ce74b267",
       "version_major": 2,
       "version_minor": 0
      },
      "text/plain": [
       "Encoding:   0%|          | 0/4716 [00:00<?, ?it/s]"
      ]
     },
     "metadata": {},
     "output_type": "display_data"
    },
    {
     "data": {
      "application/vnd.jupyter.widget-view+json": {
       "model_id": "c8e8d7e88d9d4fe2b0a15f19317076bf",
       "version_major": 2,
       "version_minor": 0
      },
      "text/plain": [
       "Encoding:   0%|          | 0/22 [00:00<?, ?it/s]"
      ]
     },
     "metadata": {},
     "output_type": "display_data"
    },
    {
     "data": {
      "application/vnd.jupyter.widget-view+json": {
       "model_id": "a7f943d37a2246b493bd08e786b86c68",
       "version_major": 2,
       "version_minor": 0
      },
      "text/plain": [
       "Encoding:   0%|          | 0/18 [00:00<?, ?it/s]"
      ]
     },
     "metadata": {},
     "output_type": "display_data"
    }
   ],
   "source": [
    "MODEL = \"cambridgeltl/SapBERT-UMLS-2020AB-all-lang-from-XLMR-large\"\n",
    "faiss_encoder = faiss_enc.FaissEncoder(MODEL, F_TYPE, MAX_LENGTH, train_gaz_df)\n",
    "faiss_encoder.fitFaiss()\n",
    "\n",
    "candidates, codes, _ = faiss_encoder.getCandidates(um_df[\"term\"].tolist(), k=200)\n",
    "xlmr_um_preds = um_df.copy()\n",
    "xlmr_um_preds[\"candidates\"] = candidates\n",
    "xlmr_um_preds[\"codes\"] = codes\n",
    "\n",
    "candidates, codes, _ = faiss_encoder.getCandidates(uc_df[\"term\"].tolist(), k=200)\n",
    "xlmr_uc_preds = uc_df.copy()\n",
    "xlmr_uc_preds[\"candidates\"] = candidates\n",
    "xlmr_uc_preds[\"codes\"] = codes\n",
    "\n",
    "del faiss_encoder\n"
   ]
  },
  {
   "cell_type": "code",
   "execution_count": 5,
   "metadata": {},
   "outputs": [
    {
     "name": "stderr",
     "output_type": "stream",
     "text": [
      "Reranking candidates: 100%|██████████| 1375/1375 [13:36<00:00,  1.68it/s]\n",
      "Reranking candidates: 100%|██████████| 1115/1115 [11:02<00:00,  1.68it/s]\n"
     ]
    }
   ],
   "source": [
    "crossreranker = CrossEncoderReranker(model_name=f\"../../models/NEL/cross-encoders/SapBERT_Multilingue_XLMR-large/cef_{CORPUS.lower()}_SapBERT_Multilingue_XLMR-large_sim_cand_200_epoch_1_bs_64/\", model_type=\"st\", max_seq_length=MAX_LENGTH)\n",
    "um_results[MODEL.split(\"/\")[-1]+\"-sim\"] = calculate_topk_accuracy(crossreranker.rerank_candidates(xlmr_um_preds.copy(deep=True), \"term\", \"candidates\", \"codes\"), TOP_K_VALUES)\n",
    "uc_results[MODEL.split(\"/\")[-1]+\"-sim\"] = calculate_topk_accuracy(crossreranker.rerank_candidates(xlmr_uc_preds.copy(deep=True), \"term\", \"candidates\", \"codes\"), TOP_K_VALUES)"
   ]
  },
  {
   "cell_type": "code",
   "execution_count": 6,
   "metadata": {},
   "outputs": [
    {
     "name": "stderr",
     "output_type": "stream",
     "text": [
      "Reranking candidates: 100%|██████████| 1375/1375 [13:49<00:00,  1.66it/s]\n",
      "Reranking candidates: 100%|██████████| 1115/1115 [10:55<00:00,  1.70it/s]\n"
     ]
    }
   ],
   "source": [
    "crossreranker = CrossEncoderReranker(model_name=f\"../../models/NEL/cross-encoders/SapBERT_Multilingue_XLMR-large/cef_{CORPUS.lower()}_SapBERT_Multilingue_XLMR-large_kg_1_cand_200_epoch_1_bs_64/\", model_type=\"st\", max_seq_length=MAX_LENGTH)\n",
    "um_results[MODEL.split(\"/\")[-1]+\"-kg-1\"] = calculate_topk_accuracy(crossreranker.rerank_candidates(xlmr_um_preds.copy(deep=True), \"term\", \"candidates\", \"codes\"), TOP_K_VALUES)\n",
    "uc_results[MODEL.split(\"/\")[-1]+\"-kg-1\"] = calculate_topk_accuracy(crossreranker.rerank_candidates(xlmr_uc_preds.copy(deep=True), \"term\", \"candidates\", \"codes\"), TOP_K_VALUES)"
   ]
  },
  {
   "cell_type": "code",
   "execution_count": 7,
   "metadata": {},
   "outputs": [
    {
     "name": "stderr",
     "output_type": "stream",
     "text": [
      "Reranking candidates: 100%|██████████| 1375/1375 [13:34<00:00,  1.69it/s]\n",
      "Reranking candidates: 100%|██████████| 1115/1115 [10:45<00:00,  1.73it/s]\n"
     ]
    }
   ],
   "source": [
    "crossreranker = CrossEncoderReranker(model_name=f\"../../models/NEL/cross-encoders/SapBERT_Multilingue_XLMR-large/cef_{CORPUS.lower()}_SapBERT_Multilingue_XLMR-large_kg_2_cand_200_epoch_1_bs_64/\", model_type=\"st\", max_seq_length=MAX_LENGTH)\n",
    "um_results[MODEL.split(\"/\")[-1]+\"-kg-2\"] = calculate_topk_accuracy(crossreranker.rerank_candidates(xlmr_um_preds.copy(deep=True), \"term\", \"candidates\", \"codes\"), TOP_K_VALUES)\n",
    "uc_results[MODEL.split(\"/\")[-1]+\"-kg-2\"] = calculate_topk_accuracy(crossreranker.rerank_candidates(xlmr_uc_preds.copy(deep=True), \"term\", \"candidates\", \"codes\"), TOP_K_VALUES)"
   ]
  },
  {
   "cell_type": "code",
   "execution_count": 8,
   "metadata": {},
   "outputs": [
    {
     "name": "stderr",
     "output_type": "stream",
     "text": [
      "Reranking candidates: 100%|██████████| 1375/1375 [13:40<00:00,  1.68it/s]\n",
      "Reranking candidates: 100%|██████████| 1115/1115 [10:50<00:00,  1.71it/s]\n"
     ]
    }
   ],
   "source": [
    "crossreranker = CrossEncoderReranker(model_name=f\"../../models/NEL/cross-encoders/SapBERT_Multilingue_XLMR-large/cef_{CORPUS.lower()}_SapBERT_Multilingue_XLMR-large_bkg_1_cand_200_epoch_1_bs_64/\", model_type=\"st\", max_seq_length=MAX_LENGTH)\n",
    "um_results[MODEL.split(\"/\")[-1]+\"-bkg-1\"] = calculate_topk_accuracy(crossreranker.rerank_candidates(xlmr_um_preds.copy(deep=True), \"term\", \"candidates\", \"codes\"), TOP_K_VALUES)\n",
    "uc_results[MODEL.split(\"/\")[-1]+\"-bkg-1\"] = calculate_topk_accuracy(crossreranker.rerank_candidates(xlmr_uc_preds.copy(deep=True), \"term\", \"candidates\", \"codes\"), TOP_K_VALUES)"
   ]
  },
  {
   "cell_type": "code",
   "execution_count": 10,
   "metadata": {},
   "outputs": [
    {
     "name": "stderr",
     "output_type": "stream",
     "text": [
      "Reranking candidates: 100%|██████████| 1375/1375 [12:47<00:00,  1.79it/s]\n",
      "Reranking candidates: 100%|██████████| 1115/1115 [10:54<00:00,  1.70it/s]\n"
     ]
    }
   ],
   "source": [
    "crossreranker = CrossEncoderReranker(model_name=f\"../../models/NEL/cross-encoders/SapBERT_Multilingue_XLMR-large/cef_{CORPUS.lower()}_SapBERT_Multilingue_XLMR-large_bkg_2_cand_200_epoch_1_bs_64/\", model_type=\"st\", max_seq_length=MAX_LENGTH)\n",
    "um_results[MODEL.split(\"/\")[-1]+\"-bkg-2\"] = calculate_topk_accuracy(crossreranker.rerank_candidates(xlmr_um_preds.copy(deep=True), \"term\", \"candidates\", \"codes\"), TOP_K_VALUES)\n",
    "uc_results[MODEL.split(\"/\")[-1]+\"-bkg-2\"] = calculate_topk_accuracy(crossreranker.rerank_candidates(xlmr_uc_preds.copy(deep=True), \"term\", \"candidates\", \"codes\"), TOP_K_VALUES)"
   ]
  },
  {
   "cell_type": "code",
   "execution_count": 11,
   "metadata": {},
   "outputs": [
    {
     "data": {
      "text/html": [
       "<div>\n",
       "<style scoped>\n",
       "    .dataframe tbody tr th:only-of-type {\n",
       "        vertical-align: middle;\n",
       "    }\n",
       "\n",
       "    .dataframe tbody tr th {\n",
       "        vertical-align: top;\n",
       "    }\n",
       "\n",
       "    .dataframe thead th {\n",
       "        text-align: right;\n",
       "    }\n",
       "</style>\n",
       "<table border=\"1\" class=\"dataframe\">\n",
       "  <thead>\n",
       "    <tr style=\"text-align: right;\">\n",
       "      <th></th>\n",
       "      <th>name</th>\n",
       "      <th>1</th>\n",
       "      <th>5</th>\n",
       "      <th>25</th>\n",
       "      <th>50</th>\n",
       "      <th>100</th>\n",
       "      <th>200</th>\n",
       "    </tr>\n",
       "  </thead>\n",
       "  <tbody>\n",
       "    <tr>\n",
       "      <th>0</th>\n",
       "      <td>SapBERT-UMLS-2020AB-all-lang-from-XLMR-large-sim</td>\n",
       "      <td>0.373818</td>\n",
       "      <td>0.583273</td>\n",
       "      <td>0.689455</td>\n",
       "      <td>0.721455</td>\n",
       "      <td>0.741091</td>\n",
       "      <td>0.749091</td>\n",
       "    </tr>\n",
       "    <tr>\n",
       "      <th>1</th>\n",
       "      <td>SapBERT-UMLS-2020AB-all-lang-from-XLMR-large-kg-1</td>\n",
       "      <td>0.284364</td>\n",
       "      <td>0.448727</td>\n",
       "      <td>0.581818</td>\n",
       "      <td>0.634182</td>\n",
       "      <td>0.672000</td>\n",
       "      <td>0.749091</td>\n",
       "    </tr>\n",
       "    <tr>\n",
       "      <th>2</th>\n",
       "      <td>SapBERT-UMLS-2020AB-all-lang-from-XLMR-large-kg-2</td>\n",
       "      <td>0.050909</td>\n",
       "      <td>0.144727</td>\n",
       "      <td>0.332364</td>\n",
       "      <td>0.453818</td>\n",
       "      <td>0.608000</td>\n",
       "      <td>0.749091</td>\n",
       "    </tr>\n",
       "    <tr>\n",
       "      <th>3</th>\n",
       "      <td>SapBERT-UMLS-2020AB-all-lang-from-XLMR-large-b...</td>\n",
       "      <td>0.088000</td>\n",
       "      <td>0.128000</td>\n",
       "      <td>0.341818</td>\n",
       "      <td>0.444364</td>\n",
       "      <td>0.587636</td>\n",
       "      <td>0.749091</td>\n",
       "    </tr>\n",
       "    <tr>\n",
       "      <th>4</th>\n",
       "      <td>SapBERT-UMLS-2020AB-all-lang-from-XLMR-large-b...</td>\n",
       "      <td>0.357818</td>\n",
       "      <td>0.529455</td>\n",
       "      <td>0.643636</td>\n",
       "      <td>0.680000</td>\n",
       "      <td>0.712727</td>\n",
       "      <td>0.749091</td>\n",
       "    </tr>\n",
       "  </tbody>\n",
       "</table>\n",
       "</div>"
      ],
      "text/plain": [
       "                                                name         1         5  \\\n",
       "0   SapBERT-UMLS-2020AB-all-lang-from-XLMR-large-sim  0.373818  0.583273   \n",
       "1  SapBERT-UMLS-2020AB-all-lang-from-XLMR-large-kg-1  0.284364  0.448727   \n",
       "2  SapBERT-UMLS-2020AB-all-lang-from-XLMR-large-kg-2  0.050909  0.144727   \n",
       "3  SapBERT-UMLS-2020AB-all-lang-from-XLMR-large-b...  0.088000  0.128000   \n",
       "4  SapBERT-UMLS-2020AB-all-lang-from-XLMR-large-b...  0.357818  0.529455   \n",
       "\n",
       "         25        50       100       200  \n",
       "0  0.689455  0.721455  0.741091  0.749091  \n",
       "1  0.581818  0.634182  0.672000  0.749091  \n",
       "2  0.332364  0.453818  0.608000  0.749091  \n",
       "3  0.341818  0.444364  0.587636  0.749091  \n",
       "4  0.643636  0.680000  0.712727  0.749091  "
      ]
     },
     "execution_count": 11,
     "metadata": {},
     "output_type": "execute_result"
    }
   ],
   "source": [
    "pd.DataFrame.from_dict(um_results, orient='index').reset_index().rename(columns={'index': 'name'}).head(20)"
   ]
  },
  {
   "cell_type": "code",
   "execution_count": 12,
   "metadata": {},
   "outputs": [
    {
     "data": {
      "text/html": [
       "<div>\n",
       "<style scoped>\n",
       "    .dataframe tbody tr th:only-of-type {\n",
       "        vertical-align: middle;\n",
       "    }\n",
       "\n",
       "    .dataframe tbody tr th {\n",
       "        vertical-align: top;\n",
       "    }\n",
       "\n",
       "    .dataframe thead th {\n",
       "        text-align: right;\n",
       "    }\n",
       "</style>\n",
       "<table border=\"1\" class=\"dataframe\">\n",
       "  <thead>\n",
       "    <tr style=\"text-align: right;\">\n",
       "      <th></th>\n",
       "      <th>name</th>\n",
       "      <th>1</th>\n",
       "      <th>5</th>\n",
       "      <th>25</th>\n",
       "      <th>50</th>\n",
       "      <th>100</th>\n",
       "      <th>200</th>\n",
       "    </tr>\n",
       "  </thead>\n",
       "  <tbody>\n",
       "    <tr>\n",
       "      <th>0</th>\n",
       "      <td>SapBERT-UMLS-2020AB-all-lang-from-XLMR-large-sim</td>\n",
       "      <td>0.408072</td>\n",
       "      <td>0.591031</td>\n",
       "      <td>0.691480</td>\n",
       "      <td>0.719283</td>\n",
       "      <td>0.740807</td>\n",
       "      <td>0.747085</td>\n",
       "    </tr>\n",
       "    <tr>\n",
       "      <th>1</th>\n",
       "      <td>SapBERT-UMLS-2020AB-all-lang-from-XLMR-large-kg-1</td>\n",
       "      <td>0.346188</td>\n",
       "      <td>0.487892</td>\n",
       "      <td>0.593722</td>\n",
       "      <td>0.641256</td>\n",
       "      <td>0.678924</td>\n",
       "      <td>0.747085</td>\n",
       "    </tr>\n",
       "    <tr>\n",
       "      <th>2</th>\n",
       "      <td>SapBERT-UMLS-2020AB-all-lang-from-XLMR-large-kg-2</td>\n",
       "      <td>0.068161</td>\n",
       "      <td>0.172197</td>\n",
       "      <td>0.350673</td>\n",
       "      <td>0.460987</td>\n",
       "      <td>0.609865</td>\n",
       "      <td>0.747085</td>\n",
       "    </tr>\n",
       "    <tr>\n",
       "      <th>3</th>\n",
       "      <td>SapBERT-UMLS-2020AB-all-lang-from-XLMR-large-b...</td>\n",
       "      <td>0.114798</td>\n",
       "      <td>0.146188</td>\n",
       "      <td>0.356054</td>\n",
       "      <td>0.456502</td>\n",
       "      <td>0.596413</td>\n",
       "      <td>0.747085</td>\n",
       "    </tr>\n",
       "    <tr>\n",
       "      <th>4</th>\n",
       "      <td>SapBERT-UMLS-2020AB-all-lang-from-XLMR-large-b...</td>\n",
       "      <td>0.403587</td>\n",
       "      <td>0.560538</td>\n",
       "      <td>0.651121</td>\n",
       "      <td>0.683408</td>\n",
       "      <td>0.713004</td>\n",
       "      <td>0.747085</td>\n",
       "    </tr>\n",
       "  </tbody>\n",
       "</table>\n",
       "</div>"
      ],
      "text/plain": [
       "                                                name         1         5  \\\n",
       "0   SapBERT-UMLS-2020AB-all-lang-from-XLMR-large-sim  0.408072  0.591031   \n",
       "1  SapBERT-UMLS-2020AB-all-lang-from-XLMR-large-kg-1  0.346188  0.487892   \n",
       "2  SapBERT-UMLS-2020AB-all-lang-from-XLMR-large-kg-2  0.068161  0.172197   \n",
       "3  SapBERT-UMLS-2020AB-all-lang-from-XLMR-large-b...  0.114798  0.146188   \n",
       "4  SapBERT-UMLS-2020AB-all-lang-from-XLMR-large-b...  0.403587  0.560538   \n",
       "\n",
       "         25        50       100       200  \n",
       "0  0.691480  0.719283  0.740807  0.747085  \n",
       "1  0.593722  0.641256  0.678924  0.747085  \n",
       "2  0.350673  0.460987  0.609865  0.747085  \n",
       "3  0.356054  0.456502  0.596413  0.747085  \n",
       "4  0.651121  0.683408  0.713004  0.747085  "
      ]
     },
     "execution_count": 12,
     "metadata": {},
     "output_type": "execute_result"
    }
   ],
   "source": [
    "pd.DataFrame.from_dict(uc_results, orient='index').reset_index().rename(columns={'index': 'name'}).head(20)"
   ]
  },
  {
   "cell_type": "code",
   "execution_count": 13,
   "metadata": {},
   "outputs": [
    {
     "data": {
      "application/vnd.jupyter.widget-view+json": {
       "model_id": "b2610051749b46829c30696ba4d2d9f4",
       "version_major": 2,
       "version_minor": 0
      },
      "text/plain": [
       "Encoding:   0%|          | 0/4716 [00:00<?, ?it/s]"
      ]
     },
     "metadata": {},
     "output_type": "display_data"
    },
    {
     "data": {
      "application/vnd.jupyter.widget-view+json": {
       "model_id": "d54e81fb668e49a2acca26be2417ca77",
       "version_major": 2,
       "version_minor": 0
      },
      "text/plain": [
       "Encoding:   0%|          | 0/22 [00:00<?, ?it/s]"
      ]
     },
     "metadata": {},
     "output_type": "display_data"
    },
    {
     "data": {
      "application/vnd.jupyter.widget-view+json": {
       "model_id": "5518a44717ac406781f019aa95a23a22",
       "version_major": 2,
       "version_minor": 0
      },
      "text/plain": [
       "Encoding:   0%|          | 0/18 [00:00<?, ?it/s]"
      ]
     },
     "metadata": {},
     "output_type": "display_data"
    }
   ],
   "source": [
    "if ClinLinker_model[CORPUS] == \"ClinLinker-KB-GP\":\n",
    "        be_path = f\"../../models/NEL/spanish_sapbert_models/sapbert_15_grandparents_1epoch/\"\n",
    "        ce_path = f\"../../models/NEL/cross-encoders/Spanish_SapBERT_grandparents/cef_{CORPUS.lower()}_Spanish_SapBERT_grandparents_sim_cand_200_epoch_1_bs_128/\"\n",
    "elif ClinLinker_model[CORPUS] == \"ClinLinker-KB-P\":\n",
    "    be_path = \"../../models/NEL/spanish_sapbert_models/sapbert_15_parents_1epoch/\"\n",
    "    ce_path = f\"../../models/NEL/cross-encoders/Spanish_SapBERT_parents/cef_{CORPUS.lower()}_Spanish_SapBERT_parents_sim_cand_200_epoch_1_bs_128/\"\n",
    "\n",
    "faiss_encoder = faiss_enc.FaissEncoder(be_path, F_TYPE, MAX_LENGTH, train_gaz_df)\n",
    "faiss_encoder.fitFaiss()\n",
    "candidates, codes, _ = faiss_encoder.getCandidates(um_df[\"term\"].tolist(), k=200)\n",
    "cl_um_preds = um_df.copy()\n",
    "cl_um_preds[\"candidates\"] = candidates\n",
    "cl_um_preds[\"codes\"] = codes\n",
    "\n",
    "candidates, codes, _ = faiss_encoder.getCandidates(uc_df[\"term\"].tolist(), k=200)\n",
    "cl_uc_preds = uc_df.copy()\n",
    "cl_uc_preds[\"candidates\"] = candidates\n",
    "cl_uc_preds[\"codes\"] = codes\n",
    "del faiss_encoder"
   ]
  },
  {
   "cell_type": "code",
   "execution_count": 14,
   "metadata": {},
   "outputs": [
    {
     "name": "stderr",
     "output_type": "stream",
     "text": [
      "Reranking candidates: 100%|██████████| 1375/1375 [03:19<00:00,  6.90it/s]\n",
      "Reranking candidates: 100%|██████████| 1115/1115 [02:41<00:00,  6.91it/s]\n"
     ]
    }
   ],
   "source": [
    "crossreranker = CrossEncoderReranker(model_name=ce_path, model_type=\"st\", max_seq_length=MAX_LENGTH)\n",
    "um_results[be_path.split(\"/\")[5]+\"-sim\"] = calculate_topk_accuracy(crossreranker.rerank_candidates(cl_um_preds.copy(deep=True), \"term\", \"candidates\", \"codes\"), TOP_K_VALUES)\n",
    "uc_results[be_path.split(\"/\")[5]+\"-sim\"] = calculate_topk_accuracy(crossreranker.rerank_candidates(cl_uc_preds.copy(deep=True), \"term\", \"candidates\", \"codes\"), TOP_K_VALUES)"
   ]
  },
  {
   "cell_type": "code",
   "execution_count": 15,
   "metadata": {},
   "outputs": [
    {
     "name": "stderr",
     "output_type": "stream",
     "text": [
      "Reranking candidates: 100%|██████████| 1375/1375 [03:19<00:00,  6.88it/s]\n",
      "Reranking candidates: 100%|██████████| 1115/1115 [02:41<00:00,  6.89it/s]\n"
     ]
    }
   ],
   "source": [
    "crossreranker = CrossEncoderReranker(model_name=ce_path.replace(\"sim\", \"kg_1\"), model_type=\"st\", max_seq_length=MAX_LENGTH)\n",
    "um_results[be_path.split(\"/\")[5]+\"-kg-1\"] = calculate_topk_accuracy(crossreranker.rerank_candidates(cl_um_preds.copy(deep=True), \"term\", \"candidates\", \"codes\"), TOP_K_VALUES)\n",
    "uc_results[be_path.split(\"/\")[5]+\"-kg-1\"] = calculate_topk_accuracy(crossreranker.rerank_candidates(cl_uc_preds.copy(deep=True), \"term\", \"candidates\", \"codes\"), TOP_K_VALUES)"
   ]
  },
  {
   "cell_type": "code",
   "execution_count": 16,
   "metadata": {},
   "outputs": [
    {
     "name": "stderr",
     "output_type": "stream",
     "text": [
      "Reranking candidates: 100%|██████████| 1375/1375 [03:19<00:00,  6.90it/s]\n",
      "Reranking candidates: 100%|██████████| 1115/1115 [02:41<00:00,  6.91it/s]\n"
     ]
    }
   ],
   "source": [
    "crossreranker = CrossEncoderReranker(model_name=ce_path.replace(\"sim\", \"kg_2\"), model_type=\"st\", max_seq_length=MAX_LENGTH)\n",
    "um_results[be_path.split(\"/\")[5]+\"-kg-2\"] = calculate_topk_accuracy(crossreranker.rerank_candidates(cl_um_preds.copy(deep=True), \"term\", \"candidates\", \"codes\"), TOP_K_VALUES)\n",
    "uc_results[be_path.split(\"/\")[5]+\"-kg-2\"] = calculate_topk_accuracy(crossreranker.rerank_candidates(cl_uc_preds.copy(deep=True), \"term\", \"candidates\", \"codes\"), TOP_K_VALUES)"
   ]
  },
  {
   "cell_type": "code",
   "execution_count": 17,
   "metadata": {},
   "outputs": [
    {
     "name": "stderr",
     "output_type": "stream",
     "text": [
      "Reranking candidates: 100%|██████████| 1375/1375 [03:20<00:00,  6.86it/s]\n",
      "Reranking candidates: 100%|██████████| 1115/1115 [02:41<00:00,  6.90it/s]\n"
     ]
    }
   ],
   "source": [
    "crossreranker = CrossEncoderReranker(model_name=ce_path.replace(\"sim\", \"bkg_1\"), model_type=\"st\", max_seq_length=MAX_LENGTH)\n",
    "um_results[be_path.split(\"/\")[5]+\"-bkg-1\"] = calculate_topk_accuracy(crossreranker.rerank_candidates(cl_um_preds.copy(deep=True), \"term\", \"candidates\", \"codes\"), TOP_K_VALUES)\n",
    "uc_results[be_path.split(\"/\")[5]+\"-bkg-1\"] = calculate_topk_accuracy(crossreranker.rerank_candidates(cl_uc_preds.copy(deep=True), \"term\", \"candidates\", \"codes\"), TOP_K_VALUES)"
   ]
  },
  {
   "cell_type": "code",
   "execution_count": 18,
   "metadata": {},
   "outputs": [
    {
     "name": "stderr",
     "output_type": "stream",
     "text": [
      "Reranking candidates: 100%|██████████| 1375/1375 [03:18<00:00,  6.94it/s]\n",
      "Reranking candidates: 100%|██████████| 1115/1115 [02:40<00:00,  6.94it/s]\n"
     ]
    }
   ],
   "source": [
    "crossreranker = CrossEncoderReranker(model_name=ce_path.replace(\"sim\", \"bkg_2\"), model_type=\"st\", max_seq_length=MAX_LENGTH)\n",
    "um_results[be_path.split(\"/\")[5]+\"-bkg-2\"] = calculate_topk_accuracy(crossreranker.rerank_candidates(cl_um_preds.copy(deep=True), \"term\", \"candidates\", \"codes\"), TOP_K_VALUES)\n",
    "uc_results[be_path.split(\"/\")[5]+\"-bkg-2\"] = calculate_topk_accuracy(crossreranker.rerank_candidates(cl_uc_preds.copy(deep=True), \"term\", \"candidates\", \"codes\"), TOP_K_VALUES)"
   ]
  },
  {
   "cell_type": "code",
   "execution_count": 19,
   "metadata": {},
   "outputs": [],
   "source": [
    "pd.DataFrame.from_dict(um_results, orient='index').reset_index().rename(columns={'index': 'name'}).to_csv(f\"../results/{CORPUS}/um_results.tsv\", sep='\\t', index=False)"
   ]
  },
  {
   "cell_type": "code",
   "execution_count": 20,
   "metadata": {},
   "outputs": [],
   "source": [
    "pd.DataFrame.from_dict(uc_results, orient='index').reset_index().rename(columns={'index': 'name'}).to_csv(f\"../results/{CORPUS}/uc_results.tsv\", sep='\\t', index=False)"
   ]
  }
 ],
 "metadata": {
  "kernelspec": {
   "display_name": "kg_env",
   "language": "python",
   "name": "python3"
  },
  "language_info": {
   "codemirror_mode": {
    "name": "ipython",
    "version": 3
   },
   "file_extension": ".py",
   "mimetype": "text/x-python",
   "name": "python",
   "nbconvert_exporter": "python",
   "pygments_lexer": "ipython3",
   "version": "3.10.14"
  }
 },
 "nbformat": 4,
 "nbformat_minor": 2
}
