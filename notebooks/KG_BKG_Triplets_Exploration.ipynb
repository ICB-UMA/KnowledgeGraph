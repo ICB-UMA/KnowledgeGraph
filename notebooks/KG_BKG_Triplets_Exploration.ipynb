{
 "cells": [
  {
   "cell_type": "code",
   "execution_count": 1,
   "metadata": {},
   "outputs": [],
   "source": [
    "import os, sys, warnings\n",
    "warnings.filterwarnings(\"ignore\")\n",
    "import pandas as pd\n",
    "import pickle\n",
    "from tqdm.auto import tqdm\n",
    "sys.path.append('../')\n",
    "import src.FaissEncoder as faiss_enc\n",
    "import src.TripletsGeneration as tg"
   ]
  },
  {
   "cell_type": "code",
   "execution_count": 2,
   "metadata": {},
   "outputs": [],
   "source": [
    "CORPUS = \"SympTEMIST\"\n",
    "CORPUS_PATH = f\"../../EntityLinking/data/{CORPUS}/\"\n",
    "DATA_PATH = os.path.join(CORPUS_PATH, \"processed_data/\")\n",
    "TOP_K_VALUES = [1,5,25,50,100,200]\n",
    "F_TYPE = \"FlatIP\"\n",
    "MAX_LENGTH = 256\n",
    "DEPTH = 1"
   ]
  },
  {
   "cell_type": "code",
   "execution_count": 3,
   "metadata": {},
   "outputs": [],
   "source": [
    "df_train = pd.read_csv(os.path.join(DATA_PATH, \"df_link_gaz_train.tsv\"), sep=\"\\t\", header=0, dtype={\"code\": str})\n",
    "df_link_train = pd.read_csv(os.path.join(DATA_PATH, \"df_link_train.tsv\"), sep=\"\\t\", header=0, dtype={\"code\": str})\n",
    "df_gaz = pd.read_csv(os.path.join(DATA_PATH, \"gazetteer_term_code.tsv\"), sep=\"\\t\", header=0, dtype={\"code\": str})\n",
    "df_train_link = pd.read_csv(os.path.join(DATA_PATH, \"df_link_train.tsv\"), sep=\"\\t\", header=0, dtype={\"code\": str}, low_memory=False)\n",
    "\n",
    "if CORPUS == \"SympTEMIST\":\n",
    "    df_test = pd.read_csv(\"../../data/SympTEMIST/symptemist-complete_240208/symptemist_test/subtask2-linking/symptemist_tsv_test_subtask2.tsv\", sep=\"\\t\", header=0, dtype={\"code\": str})\n",
    "    df_test = df_test.rename(columns={'text': 'term'})\n",
    "elif CORPUS == \"MedProcNER\":\n",
    "    df_test = pd.read_csv(\"../../data/MedProcNER/medprocner_gs_train+test+gazz+multilingual+crossmap_230808/medprocner_test/tsv/medprocner_tsv_test_subtask2.tsv\", sep=\"\\t\", header=0, dtype={\"code\": str})\n",
    "    df_test = df_test.rename(columns={'text': 'term'})\n",
    "elif CORPUS == \"DisTEMIST\":\n",
    "    df_test = pd.read_csv(\"../../data/DisTEMIST/distemist_zenodo/test_annotated/subtrack2_linking/distemist_subtrack2_test_linking.tsv\", sep=\"\\t\", header=0, dtype={\"code\": str})\n",
    "    df_test = df_test.rename(columns={'span': 'term'})\n"
   ]
  },
  {
   "cell_type": "code",
   "execution_count": 4,
   "metadata": {},
   "outputs": [],
   "source": [
    "with open(\"graph_G.pkl\", \"rb\") as f:\n",
    "    G = pickle.load(f)\n",
    "with open(\"scui_to_cui_dict.pkl\", \"rb\") as handle:\n",
    "    mapping_dict = pickle.load(handle)"
   ]
  },
  {
   "cell_type": "code",
   "execution_count": 5,
   "metadata": {},
   "outputs": [
    {
     "name": "stderr",
     "output_type": "stream",
     "text": [
      "Encoding: 100%|██████████| 5150/5150 [00:59<00:00, 86.47it/s]\n"
     ]
    }
   ],
   "source": [
    "BIENCODER_PATH = \"../../models/spanish_sapbert_models/sapbert_15_parents_1epoch/\"\n",
    "faiss_encoder = faiss_enc.FaissEncoder(BIENCODER_PATH, F_TYPE, MAX_LENGTH, df_gaz)\n",
    "faiss_encoder.fitFaiss()"
   ]
  },
  {
   "cell_type": "code",
   "execution_count": 6,
   "metadata": {},
   "outputs": [
    {
     "name": "stderr",
     "output_type": "stream",
     "text": [
      "Encoding: 100%|██████████| 45/45 [00:01<00:00, 42.68it/s]\n"
     ]
    },
    {
     "data": {
      "text/plain": [
       "(20, 3)"
      ]
     },
     "execution_count": 6,
     "metadata": {},
     "output_type": "execute_result"
    }
   ],
   "source": [
    "candidates, codes, similarities = faiss_encoder.getCandidates(df_test[\"term\"].tolist(), k=5)\n",
    "df_test[\"candidates\"] = candidates\n",
    "df_test[\"codes\"] = codes\n",
    "df_test[\"similarities\"] = similarities\n",
    "df_hard_triplets = tg.SimilarityHardTriplets(df_test).generate_triplets(similarity_threshold=0.35)\n",
    "df_hard_triplets.shape"
   ]
  },
  {
   "cell_type": "code",
   "execution_count": 7,
   "metadata": {},
   "outputs": [
    {
     "data": {
      "text/html": [
       "<div>\n",
       "<style scoped>\n",
       "    .dataframe tbody tr th:only-of-type {\n",
       "        vertical-align: middle;\n",
       "    }\n",
       "\n",
       "    .dataframe tbody tr th {\n",
       "        vertical-align: top;\n",
       "    }\n",
       "\n",
       "    .dataframe thead th {\n",
       "        text-align: right;\n",
       "    }\n",
       "</style>\n",
       "<table border=\"1\" class=\"dataframe\">\n",
       "  <thead>\n",
       "    <tr style=\"text-align: right;\">\n",
       "      <th></th>\n",
       "      <th>anchor</th>\n",
       "      <th>positive</th>\n",
       "      <th>negative</th>\n",
       "    </tr>\n",
       "  </thead>\n",
       "  <tbody>\n",
       "    <tr>\n",
       "      <th>0</th>\n",
       "      <td>falleció</td>\n",
       "      <td>falleció</td>\n",
       "      <td>fallecido en domicilio</td>\n",
       "    </tr>\n",
       "    <tr>\n",
       "      <th>1</th>\n",
       "      <td>falleció</td>\n",
       "      <td>falleció</td>\n",
       "      <td>fallecido en cirugía</td>\n",
       "    </tr>\n",
       "    <tr>\n",
       "      <th>2</th>\n",
       "      <td>falleció</td>\n",
       "      <td>falleció</td>\n",
       "      <td>fallecido en el hospital</td>\n",
       "    </tr>\n",
       "    <tr>\n",
       "      <th>3</th>\n",
       "      <td>falleció</td>\n",
       "      <td>falleció</td>\n",
       "      <td>fallecido en la calle</td>\n",
       "    </tr>\n",
       "    <tr>\n",
       "      <th>4</th>\n",
       "      <td>disnea</td>\n",
       "      <td>disnea</td>\n",
       "      <td>disnea espiratoria</td>\n",
       "    </tr>\n",
       "  </tbody>\n",
       "</table>\n",
       "</div>"
      ],
      "text/plain": [
       "     anchor  positive                  negative\n",
       "0  falleció  falleció    fallecido en domicilio\n",
       "1  falleció  falleció      fallecido en cirugía\n",
       "2  falleció  falleció  fallecido en el hospital\n",
       "3  falleció  falleció     fallecido en la calle\n",
       "4    disnea    disnea        disnea espiratoria"
      ]
     },
     "execution_count": 7,
     "metadata": {},
     "output_type": "execute_result"
    }
   ],
   "source": [
    "df_hard_triplets.head()"
   ]
  },
  {
   "cell_type": "code",
   "execution_count": 8,
   "metadata": {},
   "outputs": [
    {
     "data": {
      "text/plain": [
       "(222, 3)"
      ]
     },
     "execution_count": 8,
     "metadata": {},
     "output_type": "execute_result"
    }
   ],
   "source": [
    "df_hard_triplets = tg.HardTripletsKG(df_test, G, mapping_dict, DEPTH, bidirectional=False).generate_triplets()\n",
    "df_hard_triplets.shape"
   ]
  },
  {
   "cell_type": "code",
   "execution_count": 9,
   "metadata": {},
   "outputs": [
    {
     "data": {
      "text/html": [
       "<div>\n",
       "<style scoped>\n",
       "    .dataframe tbody tr th:only-of-type {\n",
       "        vertical-align: middle;\n",
       "    }\n",
       "\n",
       "    .dataframe tbody tr th {\n",
       "        vertical-align: top;\n",
       "    }\n",
       "\n",
       "    .dataframe thead th {\n",
       "        text-align: right;\n",
       "    }\n",
       "</style>\n",
       "<table border=\"1\" class=\"dataframe\">\n",
       "  <thead>\n",
       "    <tr style=\"text-align: right;\">\n",
       "      <th></th>\n",
       "      <th>anchor</th>\n",
       "      <th>positive</th>\n",
       "      <th>negative</th>\n",
       "    </tr>\n",
       "  </thead>\n",
       "  <tbody>\n",
       "    <tr>\n",
       "      <th>0</th>\n",
       "      <td>falleció</td>\n",
       "      <td>muerto</td>\n",
       "      <td>fallecido en su domicilio</td>\n",
       "    </tr>\n",
       "    <tr>\n",
       "      <th>1</th>\n",
       "      <td>falleció</td>\n",
       "      <td>muerto</td>\n",
       "      <td>fallecido en el hospital (hallazgo)</td>\n",
       "    </tr>\n",
       "    <tr>\n",
       "      <th>2</th>\n",
       "      <td>falleció</td>\n",
       "      <td>muerto</td>\n",
       "      <td>fallecido en la calle (hallazgo)</td>\n",
       "    </tr>\n",
       "    <tr>\n",
       "      <th>3</th>\n",
       "      <td>falleció</td>\n",
       "      <td>muerto</td>\n",
       "      <td>lugar de la muerte - hallazgo</td>\n",
       "    </tr>\n",
       "    <tr>\n",
       "      <th>4</th>\n",
       "      <td>falleció</td>\n",
       "      <td>muerto</td>\n",
       "      <td>fallecido en la calle</td>\n",
       "    </tr>\n",
       "  </tbody>\n",
       "</table>\n",
       "</div>"
      ],
      "text/plain": [
       "     anchor positive                             negative\n",
       "0  falleció   muerto            fallecido en su domicilio\n",
       "1  falleció   muerto  fallecido en el hospital (hallazgo)\n",
       "2  falleció   muerto     fallecido en la calle (hallazgo)\n",
       "3  falleció   muerto        lugar de la muerte - hallazgo\n",
       "4  falleció   muerto                fallecido en la calle"
      ]
     },
     "execution_count": 9,
     "metadata": {},
     "output_type": "execute_result"
    }
   ],
   "source": [
    "df_hard_triplets.head()"
   ]
  },
  {
   "cell_type": "code",
   "execution_count": 10,
   "metadata": {},
   "outputs": [
    {
     "data": {
      "text/plain": [
       "(418, 3)"
      ]
     },
     "execution_count": 10,
     "metadata": {},
     "output_type": "execute_result"
    }
   ],
   "source": [
    "df_hard_triplets = tg.HardTripletsKG(df_test, G, mapping_dict, DEPTH, bidirectional=True).generate_triplets()\n",
    "df_hard_triplets.shape"
   ]
  },
  {
   "cell_type": "code",
   "execution_count": 11,
   "metadata": {},
   "outputs": [
    {
     "data": {
      "text/html": [
       "<div>\n",
       "<style scoped>\n",
       "    .dataframe tbody tr th:only-of-type {\n",
       "        vertical-align: middle;\n",
       "    }\n",
       "\n",
       "    .dataframe tbody tr th {\n",
       "        vertical-align: top;\n",
       "    }\n",
       "\n",
       "    .dataframe thead th {\n",
       "        text-align: right;\n",
       "    }\n",
       "</style>\n",
       "<table border=\"1\" class=\"dataframe\">\n",
       "  <thead>\n",
       "    <tr style=\"text-align: right;\">\n",
       "      <th></th>\n",
       "      <th>anchor</th>\n",
       "      <th>positive</th>\n",
       "      <th>negative</th>\n",
       "    </tr>\n",
       "  </thead>\n",
       "  <tbody>\n",
       "    <tr>\n",
       "      <th>0</th>\n",
       "      <td>falleció</td>\n",
       "      <td>muerto</td>\n",
       "      <td>muerte - esperada (hallazgo)</td>\n",
       "    </tr>\n",
       "    <tr>\n",
       "      <th>1</th>\n",
       "      <td>falleció</td>\n",
       "      <td>muerto</td>\n",
       "      <td>muerto - muerte sin testigos (hallazgo)</td>\n",
       "    </tr>\n",
       "    <tr>\n",
       "      <th>2</th>\n",
       "      <td>falleció</td>\n",
       "      <td>muerto</td>\n",
       "      <td>fallecido en su domicilio</td>\n",
       "    </tr>\n",
       "    <tr>\n",
       "      <th>3</th>\n",
       "      <td>falleció</td>\n",
       "      <td>muerto</td>\n",
       "      <td>fallecido en el hospital (hallazgo)</td>\n",
       "    </tr>\n",
       "    <tr>\n",
       "      <th>4</th>\n",
       "      <td>falleció</td>\n",
       "      <td>muerto</td>\n",
       "      <td>muerto sin signos de enfermedad (hallazgo)</td>\n",
       "    </tr>\n",
       "  </tbody>\n",
       "</table>\n",
       "</div>"
      ],
      "text/plain": [
       "     anchor positive                                    negative\n",
       "0  falleció   muerto                muerte - esperada (hallazgo)\n",
       "1  falleció   muerto     muerto - muerte sin testigos (hallazgo)\n",
       "2  falleció   muerto                   fallecido en su domicilio\n",
       "3  falleció   muerto         fallecido en el hospital (hallazgo)\n",
       "4  falleció   muerto  muerto sin signos de enfermedad (hallazgo)"
      ]
     },
     "execution_count": 11,
     "metadata": {},
     "output_type": "execute_result"
    }
   ],
   "source": [
    "df_hard_triplets.head()"
   ]
  },
  {
   "cell_type": "code",
   "execution_count": null,
   "metadata": {},
   "outputs": [],
   "source": [
    "DEPTH = 2\n",
    "candidates, codes, similarities = faiss_encoder.getCandidates(df_test[\"term\"].tolist(), k=5)\n",
    "df_test[\"candidates\"] = candidates\n",
    "df_test[\"codes\"] = codes\n",
    "df_test[\"similarities\"] = similarities\n",
    "df_hard_triplets = tg.SimilarityHardTriplets(df_test).generate_triplets(similarity_threshold=0.35)\n",
    "df_hard_triplets.shape"
   ]
  },
  {
   "cell_type": "code",
   "execution_count": null,
   "metadata": {},
   "outputs": [],
   "source": [
    "df_hard_triplets = tg.HardTripletsKG(df_test, G, mapping_dict, DEPTH, bidirectional=False).generate_triplets()\n",
    "df_hard_triplets.shape"
   ]
  },
  {
   "cell_type": "code",
   "execution_count": null,
   "metadata": {},
   "outputs": [],
   "source": [
    "df_hard_triplets = tg.HardTripletsKG(df_test, G, mapping_dict, DEPTH, bidirectional=True).generate_triplets()\n",
    "df_hard_triplets.shape"
   ]
  }
 ],
 "metadata": {
  "kernelspec": {
   "display_name": "x-men",
   "language": "python",
   "name": "python3"
  },
  "language_info": {
   "codemirror_mode": {
    "name": "ipython",
    "version": 3
   },
   "file_extension": ".py",
   "mimetype": "text/x-python",
   "name": "python",
   "nbconvert_exporter": "python",
   "pygments_lexer": "ipython3",
   "version": "3.10.14"
  }
 },
 "nbformat": 4,
 "nbformat_minor": 2
}
