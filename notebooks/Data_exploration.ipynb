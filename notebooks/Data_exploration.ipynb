{
 "cells": [
  {
   "cell_type": "code",
   "execution_count": 1,
   "metadata": {},
   "outputs": [],
   "source": [
    "import os\n",
    "import sys\n",
    "\n",
    "sys.path.append(os.path.join(os.getcwd(), '../src'))\n",
    "from utils import *"
   ]
  },
  {
   "cell_type": "code",
   "execution_count": 2,
   "metadata": {},
   "outputs": [],
   "source": [
    "CORPORA = [\"DisTEMIST\", \"MedProcNER\", \"SympTEMIST\"]\n",
    "DATA_PATH = \"../../data/\"\n",
    "OUTPUT_PATH = \"../data/\""
   ]
  },
  {
   "cell_type": "code",
   "execution_count": 4,
   "metadata": {},
   "outputs": [
    {
     "name": "stdout",
     "output_type": "stream",
     "text": [
      "CORPUS: DisTEMIST\n",
      "Unseen mentions (filtered): (1375, 8)\n",
      "Unseen codes (filtered): (1115, 8)\n",
      "CORPUS: MedProcNER\n",
      "Unseen mentions (filtered): (1730, 10)\n",
      "Unseen codes (filtered): (878, 10)\n",
      "CORPUS: SympTEMIST\n",
      "Unseen mentions (filtered): (1573, 10)\n",
      "Unseen codes (filtered): (763, 10)\n"
     ]
    }
   ],
   "source": [
    "for corpus in CORPORA:\n",
    "    test_df, train_df, df_gaz = load_corpus_data(DATA_PATH, corpus)\n",
    "    \n",
    "    aux_path = os.path.join(OUTPUT_PATH, corpus)\n",
    "    os.makedirs(aux_path, exist_ok=True)\n",
    "    \n",
    "    df_um = test_df[~test_df['term'].isin(train_df['term']) & ~test_df['term'].isin(df_gaz['term'])]\n",
    "    df_uc = test_df[~test_df['code'].isin(train_df['code'])]\n",
    "    df_um_filtered = df_um[~df_um['code'].str.contains(r'\\+|NO_CODE', na=False)]\n",
    "    df_uc_filtered = df_uc[~df_uc['code'].str.contains(r'\\+|NO_CODE', na=False)]\n",
    "    \n",
    "    df_um_filtered.to_csv(os.path.join(aux_path, \"df_um.tsv\"), sep=\"\\t\", index=False)\n",
    "    df_uc_filtered.to_csv(os.path.join(aux_path, \"df_uc.tsv\"), sep=\"\\t\", index=False)\n",
    "\n",
    "    print(f\"CORPUS: {corpus}\")\n",
    "    print(f\"Unseen mentions (filtered): {df_um_filtered.shape}\")\n",
    "    print(f\"Unseen codes (filtered): {df_uc_filtered.shape}\")\n"
   ]
  }
 ],
 "metadata": {
  "kernelspec": {
   "display_name": "tf-torch-nel",
   "language": "python",
   "name": "python3"
  },
  "language_info": {
   "codemirror_mode": {
    "name": "ipython",
    "version": 3
   },
   "file_extension": ".py",
   "mimetype": "text/x-python",
   "name": "python",
   "nbconvert_exporter": "python",
   "pygments_lexer": "ipython3",
   "version": "3.10.12"
  }
 },
 "nbformat": 4,
 "nbformat_minor": 2
}
