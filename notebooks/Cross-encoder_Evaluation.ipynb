{
 "cells": [
  {
   "cell_type": "code",
   "execution_count": 2,
   "metadata": {},
   "outputs": [],
   "source": [
    "import os, sys, warnings, re, wandb\n",
    "warnings.filterwarnings(\"ignore\")\n",
    "import pandas as pd\n",
    "\n",
    "sys.path.append('../')\n",
    "from src.CrossEncoder import CrossEncoderReranker\n",
    "import src.FaissEncoder as faiss_enc\n",
    "from src.metrics import calculate_topk_accuracy\n"
   ]
  },
  {
   "cell_type": "code",
   "execution_count": 4,
   "metadata": {},
   "outputs": [],
   "source": [
    "CORPUS = \"SympTEMIST\"\n",
    "CORPUS_PATH = f\"../../EntityLinking/data/{CORPUS}/\"\n",
    "DATA_PATH = os.path.join(CORPUS_PATH, \"processed_data/\")\n",
    "TOP_K_VALUES = [1,5,25,50,100,200]\n",
    "F_TYPE = \"FlatIP\"\n",
    "MAX_LENGTH = 256\n",
    "\n",
    "mapping_dict = {\n",
    "    \"Spanish_SapBERT_grandparents\": \"ClinLinker-KB-GP\",\n",
    "    \"Spanish_SapBERT_parents\": \"ClinLinker-KB-P\",\n",
    "    \"SapBERT-XLM-R\": \"SapBERT-XLM-R-base\",\n",
    "    \"SapBERT-XLM-R-large\": \"SapBERT-XLM-R-large\"\n",
    "}"
   ]
  },
  {
   "cell_type": "code",
   "execution_count": 16,
   "metadata": {},
   "outputs": [],
   "source": [
    "def log_metrics(data, category):\n",
    "    for k, accuracy in data.items():\n",
    "        wandb.log({\"k_value\": k, f\"Accuracy/{category}\": accuracy})\n",
    "\n",
    "def log_columns_acc_table(dict, category):\n",
    "    for k,v in dict.items():\n",
    "        wandb.log({f\"{category}-{k}\": v})\n",
    "\n",
    "def evaluate(model_path, mapping_dict, df_gs, df_link_train, df_gaz, corpus, top_k_values):\n",
    "    print(model_path.split('/')[-1])\n",
    "    regex = r'/cef_([a-zA-Z0-9]+)_((?:[\\w-]+_)*[\\w-]+?)_(sim|kg|bkg)(?:_(\\d+))?_cand_(\\d+)_epoch_(\\d+)_bs_(\\d+)'\n",
    "    match = re.search(regex, model_path)\n",
    "    if not match:\n",
    "        raise ValueError(\"Invalid model_path format.\")\n",
    "\n",
    "    _ = match.group(1)\n",
    "    model = match.group(2)\n",
    "    model = mapping_dict.get(model, model)\n",
    "    triplet_type = match.group(3)\n",
    "    depth = match.group(4) if match.group(4) is not None else '0'  # Default depth to '0' if not specified\n",
    "    _ = int(match.group(5))\n",
    "    epoch = int(match.group(6))\n",
    "    batch_size = int(match.group(7))\n",
    "\n",
    "    wandb.init(project='Cross-encoder_KB_Enrichment', entity='fgallego', reinit=True)\n",
    "    wandb.config.update({\n",
    "        'model': model,\n",
    "        'corpus': corpus,\n",
    "        'hard_triplet_type': triplet_type,\n",
    "        'depth': depth,\n",
    "        'epoch': epoch,\n",
    "        'batch_size': batch_size\n",
    "    })\n",
    "\n",
    "    crossreranker = CrossEncoderReranker(model_name=model_path, model_type=\"st\", max_seq_length=120)\n",
    "    df_preds_gs = crossreranker.rerank_candidates(df_gs, \"term\", \"candidates\", \"codes\")\n",
    "    res_gs = calculate_topk_accuracy(df_preds_gs, top_k_values)\n",
    "\n",
    "    df_preds_uc = df_preds_gs[~df_preds_gs['code'].isin(df_link_train['code'])]\n",
    "    res_uc = calculate_topk_accuracy(df_preds_uc, top_k_values)\n",
    "    \n",
    "    df_preds_um = df_preds_uc[~df_preds_uc['term'].isin(df_gaz['term'])]\n",
    "    res_um = calculate_topk_accuracy(df_preds_um, top_k_values)\n",
    "\n",
    "    artifact_gs = wandb.Artifact('predictions_gs', type='dataset')\n",
    "    artifact_uc = wandb.Artifact('predictions_uc', type='dataset')\n",
    "    artifact_um = wandb.Artifact('predictions_um', type='dataset')\n",
    "\n",
    "    with artifact_gs.new_file('predictions_gs.tsv', mode='w') as f:\n",
    "        df_preds_gs.to_csv(f, index=False)\n",
    "    with artifact_uc.new_file('predictions_uc.tsv', mode='w') as f:\n",
    "        df_preds_uc.to_csv(f, index=False)\n",
    "    with artifact_um.new_file('predictions_um.tsv', mode='w') as f:\n",
    "        df_preds_um.to_csv(f, index=False)\n",
    "\n",
    "    wandb.log_artifact(artifact_gs)\n",
    "    wandb.log_artifact(artifact_uc)\n",
    "    wandb.log_artifact(artifact_um)\n",
    "    log_metrics(res_gs, \"Gold_Standard\")\n",
    "    log_metrics(res_uc, \"Unseen_Codes\")\n",
    "    log_metrics(res_um, \"Unseen_Mentions\")\n",
    "\n",
    "    log_columns_acc_table(res_gs, \"GS\")\n",
    "    log_columns_acc_table(res_uc, \"UC\")\n",
    "    log_columns_acc_table(res_um, \"UM\")\n",
    "\n",
    "    wandb.finish()"
   ]
  },
  {
   "cell_type": "code",
   "execution_count": 3,
   "metadata": {},
   "outputs": [],
   "source": [
    "def evaluate_test(model_path, mapping_dict, df_gs, df_link_train, df_gaz, corpus, top_k_values):\n",
    "\n",
    "    crossreranker = CrossEncoderReranker(model_name=model_path, model_type=\"st\", max_seq_length=120)\n",
    "    df_preds_gs = crossreranker.rerank_candidates(df_gs, \"term\", \"candidates\", \"codes\")\n",
    "    res_gs = calculate_topk_accuracy(df_preds_gs, top_k_values)\n",
    "\n",
    "    df_preds_uc = df_preds_gs[~df_preds_gs['code'].isin(df_link_train['code'])]\n",
    "    res_uc = calculate_topk_accuracy(df_preds_uc, top_k_values)\n",
    "    \n",
    "    df_preds_um = df_preds_uc[~df_preds_uc['term'].isin(df_gaz['term'])]\n",
    "    res_um = calculate_topk_accuracy(df_preds_um, top_k_values)\n",
    "    print(res_gs, res_uc, res_um)\n",
    "\n"
   ]
  },
  {
   "cell_type": "code",
   "execution_count": 6,
   "metadata": {},
   "outputs": [],
   "source": [
    "df_train = pd.read_csv(os.path.join(DATA_PATH, \"df_link_gaz_train.tsv\"), sep=\"\\t\", header=0, dtype={\"code\": str})\n",
    "df_link_train = pd.read_csv(os.path.join(DATA_PATH, \"df_link_train.tsv\"), sep=\"\\t\", header=0, dtype={\"code\": str})\n",
    "df_gaz = pd.read_csv(os.path.join(DATA_PATH, \"gazetteer_term_code.tsv\"), sep=\"\\t\", header=0, dtype={\"code\": str})\n",
    "\n",
    "if CORPUS == \"SympTEMIST\":\n",
    "    df_test = pd.read_csv(\"../../data/SympTEMIST/symptemist-complete_240208/symptemist_test/subtask2-linking/symptemist_tsv_test_subtask2.tsv\", sep=\"\\t\", header=0, dtype={\"code\": str})\n",
    "    df_test = df_test.rename(columns={'text': 'term'})\n",
    "elif CORPUS == \"MedProcNER\":\n",
    "    df_test = pd.read_csv(\"../../data/MedProcNER/medprocner_gs_train+test+gazz+multilingual+crossmap_230808/medprocner_test/tsv/medprocner_tsv_test_subtask2.tsv\", sep=\"\\t\", header=0, dtype={\"code\": str})\n",
    "    df_test = df_test.rename(columns={'text': 'term'})\n",
    "elif CORPUS == \"DisTEMIST\":\n",
    "    df_test = pd.read_csv(\"../../data/DisTEMIST/distemist_zenodo/test_annotated/subtrack2_linking/distemist_subtrack2_test_linking.tsv\", sep=\"\\t\", header=0, dtype={\"code\": str})\n",
    "    df_test = df_test.rename(columns={'span': 'term'})\n"
   ]
  },
  {
   "cell_type": "code",
   "execution_count": 7,
   "metadata": {},
   "outputs": [
    {
     "name": "stderr",
     "output_type": "stream",
     "text": [
      "Encoding: 100%|██████████| 5218/5218 [04:41<00:00, 18.55it/s]\n"
     ]
    }
   ],
   "source": [
    "faiss_encoder = faiss_enc.FaissEncoder(\"cambridgeltl/SapBERT-UMLS-2020AB-all-lang-from-XLMR-large\", F_TYPE, MAX_LENGTH, df_train)\n",
    "faiss_encoder.fitFaiss()"
   ]
  },
  {
   "cell_type": "code",
   "execution_count": 8,
   "metadata": {},
   "outputs": [
    {
     "name": "stderr",
     "output_type": "stream",
     "text": [
      "Encoding: 100%|██████████| 45/45 [00:05<00:00,  8.39it/s]\n",
      "Reranking candidates: 100%|██████████| 2848/2848 [22:18<00:00,  2.13it/s]\n"
     ]
    },
    {
     "name": "stdout",
     "output_type": "stream",
     "text": [
      "{1: 0.5807584269662921, 5: 0.7155898876404494, 25: 0.8058286516853933, 50: 0.8279494382022472, 100: 0.8472612359550562, 200: 0.8542837078651685} {1: 0.2967309304274937, 5: 0.47778709136630343, 25: 0.622799664710813, 50: 0.6596814752724225, 100: 0.6898575020955574, 200: 0.7032690695725062} {1: 0.234375, 5: 0.43106617647058826, 25: 0.5882352941176471, 50: 0.6286764705882353, 100: 0.6617647058823529, 200: 0.6764705882352942}\n"
     ]
    }
   ],
   "source": [
    "candidates, codes, similarities = faiss_encoder.getCandidates(df_test[\"term\"].tolist(), k=200)\n",
    "df_test[\"candidates\"] = candidates\n",
    "df_test[\"codes\"] = codes\n",
    "evaluate_test(f\"../../models/cross-encoders/SapBERT_Multilingue_XLMR-large/cef_{CORPUS.lower()}_SapBERT_Multilingue_XLMR-large_sim_cand_200_epoch_1_bs_64\", mapping_dict, df_test, df_link_train, df_gaz, CORPUS, TOP_K_VALUES)"
   ]
  },
  {
   "cell_type": "code",
   "execution_count": 6,
   "metadata": {},
   "outputs": [
    {
     "name": "stderr",
     "output_type": "stream",
     "text": [
      "Encoding: 100%|██████████| 45/45 [00:05<00:00,  8.51it/s]\n",
      "Failed to detect the name of this notebook, you can set it manually with the WANDB_NOTEBOOK_NAME environment variable to enable code saving.\n",
      "\u001b[34m\u001b[1mwandb\u001b[0m: W&B API key is configured. Use \u001b[1m`wandb login --relogin`\u001b[0m to force relogin\n"
     ]
    },
    {
     "data": {
      "text/html": [
       "Tracking run with wandb version 0.16.6"
      ],
      "text/plain": [
       "<IPython.core.display.HTML object>"
      ]
     },
     "metadata": {},
     "output_type": "display_data"
    },
    {
     "data": {
      "text/html": [
       "Run data is saved locally in <code>/home/fernandogd/Documents/Investigacion/Transformers/KnowledgeGraph/notebooks/wandb/run-20240418_114353-okkscjdh</code>"
      ],
      "text/plain": [
       "<IPython.core.display.HTML object>"
      ]
     },
     "metadata": {},
     "output_type": "display_data"
    },
    {
     "data": {
      "text/html": [
       "Syncing run <strong><a href='https://wandb.ai/fgallego/Cross-encoder_KB_Enrichment/runs/okkscjdh' target=\"_blank\">stellar-darkness-18</a></strong> to <a href='https://wandb.ai/fgallego/Cross-encoder_KB_Enrichment' target=\"_blank\">Weights & Biases</a> (<a href='https://wandb.me/run' target=\"_blank\">docs</a>)<br/>"
      ],
      "text/plain": [
       "<IPython.core.display.HTML object>"
      ]
     },
     "metadata": {},
     "output_type": "display_data"
    },
    {
     "data": {
      "text/html": [
       " View project at <a href='https://wandb.ai/fgallego/Cross-encoder_KB_Enrichment' target=\"_blank\">https://wandb.ai/fgallego/Cross-encoder_KB_Enrichment</a>"
      ],
      "text/plain": [
       "<IPython.core.display.HTML object>"
      ]
     },
     "metadata": {},
     "output_type": "display_data"
    },
    {
     "data": {
      "text/html": [
       " View run at <a href='https://wandb.ai/fgallego/Cross-encoder_KB_Enrichment/runs/okkscjdh' target=\"_blank\">https://wandb.ai/fgallego/Cross-encoder_KB_Enrichment/runs/okkscjdh</a>"
      ],
      "text/plain": [
       "<IPython.core.display.HTML object>"
      ]
     },
     "metadata": {},
     "output_type": "display_data"
    },
    {
     "name": "stderr",
     "output_type": "stream",
     "text": [
      "Reranking candidates: 100%|██████████| 2848/2848 [22:00<00:00,  2.16it/s]\n"
     ]
    },
    {
     "data": {
      "text/html": [
       "<style>\n",
       "    table.wandb td:nth-child(1) { padding: 0 10px; text-align: left ; width: auto;} td:nth-child(2) {text-align: left ; width: 100%}\n",
       "    .wandb-row { display: flex; flex-direction: row; flex-wrap: wrap; justify-content: flex-start; width: 100% }\n",
       "    .wandb-col { display: flex; flex-direction: column; flex-basis: 100%; flex: 1; padding: 10px; }\n",
       "    </style>\n",
       "<div class=\"wandb-row\"><div class=\"wandb-col\"><h3>Run history:</h3><br/><table class=\"wandb\"><tr><td>Accuracy/Gold_Standard</td><td>▁▄▇▇██</td></tr><tr><td>Accuracy/Unseen_Codes</td><td>▁▄▇▇██</td></tr><tr><td>Accuracy/Unseen_Mentions</td><td>▁▄▇▇██</td></tr><tr><td>GS-1</td><td>▁</td></tr><tr><td>GS-100</td><td>▁</td></tr><tr><td>GS-200</td><td>▁</td></tr><tr><td>GS-25</td><td>▁</td></tr><tr><td>GS-5</td><td>▁</td></tr><tr><td>GS-50</td><td>▁</td></tr><tr><td>UC-1</td><td>▁</td></tr><tr><td>UC-100</td><td>▁</td></tr><tr><td>UC-200</td><td>▁</td></tr><tr><td>UC-25</td><td>▁</td></tr><tr><td>UC-5</td><td>▁</td></tr><tr><td>UC-50</td><td>▁</td></tr><tr><td>UM-1</td><td>▁</td></tr><tr><td>UM-100</td><td>▁</td></tr><tr><td>UM-200</td><td>▁</td></tr><tr><td>UM-25</td><td>▁</td></tr><tr><td>UM-5</td><td>▁</td></tr><tr><td>UM-50</td><td>▁</td></tr><tr><td>k_value</td><td>▁▁▂▃▄█▁▁▂▃▄█▁▁▂▃▄█</td></tr></table><br/></div><div class=\"wandb-col\"><h3>Run summary:</h3><br/><table class=\"wandb\"><tr><td>Accuracy/Gold_Standard</td><td>0.85428</td></tr><tr><td>Accuracy/Unseen_Codes</td><td>0.70327</td></tr><tr><td>Accuracy/Unseen_Mentions</td><td>0.67647</td></tr><tr><td>GS-1</td><td>0.58076</td></tr><tr><td>GS-100</td><td>0.84726</td></tr><tr><td>GS-200</td><td>0.85428</td></tr><tr><td>GS-25</td><td>0.80583</td></tr><tr><td>GS-5</td><td>0.71559</td></tr><tr><td>GS-50</td><td>0.82795</td></tr><tr><td>UC-1</td><td>0.29673</td></tr><tr><td>UC-100</td><td>0.68986</td></tr><tr><td>UC-200</td><td>0.70327</td></tr><tr><td>UC-25</td><td>0.6228</td></tr><tr><td>UC-5</td><td>0.47779</td></tr><tr><td>UC-50</td><td>0.65968</td></tr><tr><td>UM-1</td><td>0.23438</td></tr><tr><td>UM-100</td><td>0.66176</td></tr><tr><td>UM-200</td><td>0.67647</td></tr><tr><td>UM-25</td><td>0.58824</td></tr><tr><td>UM-5</td><td>0.43107</td></tr><tr><td>UM-50</td><td>0.62868</td></tr><tr><td>k_value</td><td>200</td></tr></table><br/></div></div>"
      ],
      "text/plain": [
       "<IPython.core.display.HTML object>"
      ]
     },
     "metadata": {},
     "output_type": "display_data"
    },
    {
     "data": {
      "text/html": [
       " View run <strong style=\"color:#cdcd00\">stellar-darkness-18</strong> at: <a href='https://wandb.ai/fgallego/Cross-encoder_KB_Enrichment/runs/okkscjdh' target=\"_blank\">https://wandb.ai/fgallego/Cross-encoder_KB_Enrichment/runs/okkscjdh</a><br/> View project at: <a href='https://wandb.ai/fgallego/Cross-encoder_KB_Enrichment' target=\"_blank\">https://wandb.ai/fgallego/Cross-encoder_KB_Enrichment</a><br/>Synced 6 W&B file(s), 0 media file(s), 3 artifact file(s) and 0 other file(s)"
      ],
      "text/plain": [
       "<IPython.core.display.HTML object>"
      ]
     },
     "metadata": {},
     "output_type": "display_data"
    },
    {
     "data": {
      "text/html": [
       "Find logs at: <code>./wandb/run-20240418_114353-okkscjdh/logs</code>"
      ],
      "text/plain": [
       "<IPython.core.display.HTML object>"
      ]
     },
     "metadata": {},
     "output_type": "display_data"
    }
   ],
   "source": [
    "candidates, codes, similarities = faiss_encoder.getCandidates(df_test[\"term\"].tolist(), k=200)\n",
    "df_test[\"candidates\"] = candidates\n",
    "df_test[\"codes\"] = codes\n",
    "evaluate(f\"../../models/cross-encoders/SapBERT_Multilingue_XLMR-large/cef_{CORPUS.lower()}_SapBERT_Multilingue_XLMR-large_sim_cand_200_epoch_1_bs_64\", mapping_dict, df_test, df_link_train, df_gaz, CORPUS, TOP_K_VALUES)"
   ]
  },
  {
   "cell_type": "code",
   "execution_count": 7,
   "metadata": {},
   "outputs": [
    {
     "name": "stderr",
     "output_type": "stream",
     "text": [
      "Encoding: 100%|██████████| 45/45 [00:04<00:00, 10.00it/s]\n"
     ]
    },
    {
     "data": {
      "text/html": [
       "Tracking run with wandb version 0.16.6"
      ],
      "text/plain": [
       "<IPython.core.display.HTML object>"
      ]
     },
     "metadata": {},
     "output_type": "display_data"
    },
    {
     "data": {
      "text/html": [
       "Run data is saved locally in <code>/home/fernandogd/Documents/Investigacion/Transformers/KnowledgeGraph/notebooks/wandb/run-20240418_120640-h6xo0uri</code>"
      ],
      "text/plain": [
       "<IPython.core.display.HTML object>"
      ]
     },
     "metadata": {},
     "output_type": "display_data"
    },
    {
     "data": {
      "text/html": [
       "Syncing run <strong><a href='https://wandb.ai/fgallego/Cross-encoder_KB_Enrichment/runs/h6xo0uri' target=\"_blank\">lunar-firefly-19</a></strong> to <a href='https://wandb.ai/fgallego/Cross-encoder_KB_Enrichment' target=\"_blank\">Weights & Biases</a> (<a href='https://wandb.me/run' target=\"_blank\">docs</a>)<br/>"
      ],
      "text/plain": [
       "<IPython.core.display.HTML object>"
      ]
     },
     "metadata": {},
     "output_type": "display_data"
    },
    {
     "data": {
      "text/html": [
       " View project at <a href='https://wandb.ai/fgallego/Cross-encoder_KB_Enrichment' target=\"_blank\">https://wandb.ai/fgallego/Cross-encoder_KB_Enrichment</a>"
      ],
      "text/plain": [
       "<IPython.core.display.HTML object>"
      ]
     },
     "metadata": {},
     "output_type": "display_data"
    },
    {
     "data": {
      "text/html": [
       " View run at <a href='https://wandb.ai/fgallego/Cross-encoder_KB_Enrichment/runs/h6xo0uri' target=\"_blank\">https://wandb.ai/fgallego/Cross-encoder_KB_Enrichment/runs/h6xo0uri</a>"
      ],
      "text/plain": [
       "<IPython.core.display.HTML object>"
      ]
     },
     "metadata": {},
     "output_type": "display_data"
    },
    {
     "name": "stderr",
     "output_type": "stream",
     "text": [
      "Reranking candidates: 100%|██████████| 2848/2848 [22:04<00:00,  2.15it/s]\n"
     ]
    },
    {
     "data": {
      "text/html": [
       "<style>\n",
       "    table.wandb td:nth-child(1) { padding: 0 10px; text-align: left ; width: auto;} td:nth-child(2) {text-align: left ; width: 100%}\n",
       "    .wandb-row { display: flex; flex-direction: row; flex-wrap: wrap; justify-content: flex-start; width: 100% }\n",
       "    .wandb-col { display: flex; flex-direction: column; flex-basis: 100%; flex: 1; padding: 10px; }\n",
       "    </style>\n",
       "<div class=\"wandb-row\"><div class=\"wandb-col\"><h3>Run history:</h3><br/><table class=\"wandb\"><tr><td>Accuracy/Gold_Standard</td><td>▁▃▅▆▇█</td></tr><tr><td>Accuracy/Unseen_Codes</td><td>▁▃▅▆▇█</td></tr><tr><td>Accuracy/Unseen_Mentions</td><td>▁▂▄▆▇█</td></tr><tr><td>GS-1</td><td>▁</td></tr><tr><td>GS-100</td><td>▁</td></tr><tr><td>GS-200</td><td>▁</td></tr><tr><td>GS-25</td><td>▁</td></tr><tr><td>GS-5</td><td>▁</td></tr><tr><td>GS-50</td><td>▁</td></tr><tr><td>UC-1</td><td>▁</td></tr><tr><td>UC-100</td><td>▁</td></tr><tr><td>UC-200</td><td>▁</td></tr><tr><td>UC-25</td><td>▁</td></tr><tr><td>UC-5</td><td>▁</td></tr><tr><td>UC-50</td><td>▁</td></tr><tr><td>UM-1</td><td>▁</td></tr><tr><td>UM-100</td><td>▁</td></tr><tr><td>UM-200</td><td>▁</td></tr><tr><td>UM-25</td><td>▁</td></tr><tr><td>UM-5</td><td>▁</td></tr><tr><td>UM-50</td><td>▁</td></tr><tr><td>k_value</td><td>▁▁▂▃▄█▁▁▂▃▄█▁▁▂▃▄█</td></tr></table><br/></div><div class=\"wandb-col\"><h3>Run summary:</h3><br/><table class=\"wandb\"><tr><td>Accuracy/Gold_Standard</td><td>0.85428</td></tr><tr><td>Accuracy/Unseen_Codes</td><td>0.70327</td></tr><tr><td>Accuracy/Unseen_Mentions</td><td>0.67647</td></tr><tr><td>GS-1</td><td>0.32268</td></tr><tr><td>GS-100</td><td>0.79916</td></tr><tr><td>GS-200</td><td>0.85428</td></tr><tr><td>GS-25</td><td>0.62781</td></tr><tr><td>GS-5</td><td>0.47296</td></tr><tr><td>GS-50</td><td>0.71278</td></tr><tr><td>UC-1</td><td>0.14585</td></tr><tr><td>UC-100</td><td>0.62783</td></tr><tr><td>UC-200</td><td>0.70327</td></tr><tr><td>UC-25</td><td>0.43168</td></tr><tr><td>UC-5</td><td>0.27326</td></tr><tr><td>UC-50</td><td>0.52389</td></tr><tr><td>UM-1</td><td>0.09651</td></tr><tr><td>UM-100</td><td>0.59375</td></tr><tr><td>UM-200</td><td>0.67647</td></tr><tr><td>UM-25</td><td>0.38327</td></tr><tr><td>UM-5</td><td>0.22059</td></tr><tr><td>UM-50</td><td>0.48254</td></tr><tr><td>k_value</td><td>200</td></tr></table><br/></div></div>"
      ],
      "text/plain": [
       "<IPython.core.display.HTML object>"
      ]
     },
     "metadata": {},
     "output_type": "display_data"
    },
    {
     "data": {
      "text/html": [
       " View run <strong style=\"color:#cdcd00\">lunar-firefly-19</strong> at: <a href='https://wandb.ai/fgallego/Cross-encoder_KB_Enrichment/runs/h6xo0uri' target=\"_blank\">https://wandb.ai/fgallego/Cross-encoder_KB_Enrichment/runs/h6xo0uri</a><br/> View project at: <a href='https://wandb.ai/fgallego/Cross-encoder_KB_Enrichment' target=\"_blank\">https://wandb.ai/fgallego/Cross-encoder_KB_Enrichment</a><br/>Synced 6 W&B file(s), 0 media file(s), 3 artifact file(s) and 0 other file(s)"
      ],
      "text/plain": [
       "<IPython.core.display.HTML object>"
      ]
     },
     "metadata": {},
     "output_type": "display_data"
    },
    {
     "data": {
      "text/html": [
       "Find logs at: <code>./wandb/run-20240418_120640-h6xo0uri/logs</code>"
      ],
      "text/plain": [
       "<IPython.core.display.HTML object>"
      ]
     },
     "metadata": {},
     "output_type": "display_data"
    }
   ],
   "source": [
    "candidates, codes, similarities = faiss_encoder.getCandidates(df_test[\"term\"].tolist(), k=200)\n",
    "df_test[\"candidates\"] = candidates\n",
    "df_test[\"codes\"] = codes\n",
    "evaluate(f\"../../models/cross-encoders/SapBERT_Multilingue_XLMR-large/cef_{CORPUS.lower()}_SapBERT_Multilingue_XLMR-large_kg_1_cand_200_epoch_1_bs_64\", mapping_dict, df_test, df_link_train, df_gaz, CORPUS, TOP_K_VALUES)"
   ]
  },
  {
   "cell_type": "code",
   "execution_count": 8,
   "metadata": {},
   "outputs": [
    {
     "name": "stderr",
     "output_type": "stream",
     "text": [
      "Encoding: 100%|██████████| 45/45 [00:04<00:00, 10.02it/s]\n"
     ]
    },
    {
     "data": {
      "text/html": [
       "Tracking run with wandb version 0.16.6"
      ],
      "text/plain": [
       "<IPython.core.display.HTML object>"
      ]
     },
     "metadata": {},
     "output_type": "display_data"
    },
    {
     "data": {
      "text/html": [
       "Run data is saved locally in <code>/home/fernandogd/Documents/Investigacion/Transformers/KnowledgeGraph/notebooks/wandb/run-20240418_122935-6v9som8v</code>"
      ],
      "text/plain": [
       "<IPython.core.display.HTML object>"
      ]
     },
     "metadata": {},
     "output_type": "display_data"
    },
    {
     "data": {
      "text/html": [
       "Syncing run <strong><a href='https://wandb.ai/fgallego/Cross-encoder_KB_Enrichment/runs/6v9som8v' target=\"_blank\">generous-darkness-20</a></strong> to <a href='https://wandb.ai/fgallego/Cross-encoder_KB_Enrichment' target=\"_blank\">Weights & Biases</a> (<a href='https://wandb.me/run' target=\"_blank\">docs</a>)<br/>"
      ],
      "text/plain": [
       "<IPython.core.display.HTML object>"
      ]
     },
     "metadata": {},
     "output_type": "display_data"
    },
    {
     "data": {
      "text/html": [
       " View project at <a href='https://wandb.ai/fgallego/Cross-encoder_KB_Enrichment' target=\"_blank\">https://wandb.ai/fgallego/Cross-encoder_KB_Enrichment</a>"
      ],
      "text/plain": [
       "<IPython.core.display.HTML object>"
      ]
     },
     "metadata": {},
     "output_type": "display_data"
    },
    {
     "data": {
      "text/html": [
       " View run at <a href='https://wandb.ai/fgallego/Cross-encoder_KB_Enrichment/runs/6v9som8v' target=\"_blank\">https://wandb.ai/fgallego/Cross-encoder_KB_Enrichment/runs/6v9som8v</a>"
      ],
      "text/plain": [
       "<IPython.core.display.HTML object>"
      ]
     },
     "metadata": {},
     "output_type": "display_data"
    },
    {
     "name": "stderr",
     "output_type": "stream",
     "text": [
      "Reranking candidates: 100%|██████████| 2848/2848 [21:58<00:00,  2.16it/s]\n"
     ]
    },
    {
     "data": {
      "text/html": [
       "<style>\n",
       "    table.wandb td:nth-child(1) { padding: 0 10px; text-align: left ; width: auto;} td:nth-child(2) {text-align: left ; width: 100%}\n",
       "    .wandb-row { display: flex; flex-direction: row; flex-wrap: wrap; justify-content: flex-start; width: 100% }\n",
       "    .wandb-col { display: flex; flex-direction: column; flex-basis: 100%; flex: 1; padding: 10px; }\n",
       "    </style>\n",
       "<div class=\"wandb-row\"><div class=\"wandb-col\"><h3>Run history:</h3><br/><table class=\"wandb\"><tr><td>Accuracy/Gold_Standard</td><td>▁▃▅▆▇█</td></tr><tr><td>Accuracy/Unseen_Codes</td><td>▁▃▅▆▆█</td></tr><tr><td>Accuracy/Unseen_Mentions</td><td>▁▃▅▆▆█</td></tr><tr><td>GS-1</td><td>▁</td></tr><tr><td>GS-100</td><td>▁</td></tr><tr><td>GS-200</td><td>▁</td></tr><tr><td>GS-25</td><td>▁</td></tr><tr><td>GS-5</td><td>▁</td></tr><tr><td>GS-50</td><td>▁</td></tr><tr><td>UC-1</td><td>▁</td></tr><tr><td>UC-100</td><td>▁</td></tr><tr><td>UC-200</td><td>▁</td></tr><tr><td>UC-25</td><td>▁</td></tr><tr><td>UC-5</td><td>▁</td></tr><tr><td>UC-50</td><td>▁</td></tr><tr><td>UM-1</td><td>▁</td></tr><tr><td>UM-100</td><td>▁</td></tr><tr><td>UM-200</td><td>▁</td></tr><tr><td>UM-25</td><td>▁</td></tr><tr><td>UM-5</td><td>▁</td></tr><tr><td>UM-50</td><td>▁</td></tr><tr><td>k_value</td><td>▁▁▂▃▄█▁▁▂▃▄█▁▁▂▃▄█</td></tr></table><br/></div><div class=\"wandb-col\"><h3>Run summary:</h3><br/><table class=\"wandb\"><tr><td>Accuracy/Gold_Standard</td><td>0.85428</td></tr><tr><td>Accuracy/Unseen_Codes</td><td>0.70327</td></tr><tr><td>Accuracy/Unseen_Mentions</td><td>0.67647</td></tr><tr><td>GS-1</td><td>0.47999</td></tr><tr><td>GS-100</td><td>0.77739</td></tr><tr><td>GS-200</td><td>0.85428</td></tr><tr><td>GS-25</td><td>0.70506</td></tr><tr><td>GS-5</td><td>0.59199</td></tr><tr><td>GS-50</td><td>0.74298</td></tr><tr><td>UC-1</td><td>0.20034</td></tr><tr><td>UC-100</td><td>0.59179</td></tr><tr><td>UC-200</td><td>0.70327</td></tr><tr><td>UC-25</td><td>0.4694</td></tr><tr><td>UC-5</td><td>0.32188</td></tr><tr><td>UC-50</td><td>0.53227</td></tr><tr><td>UM-1</td><td>0.13327</td></tr><tr><td>UM-100</td><td>0.55423</td></tr><tr><td>UM-200</td><td>0.67647</td></tr><tr><td>UM-25</td><td>0.42004</td></tr><tr><td>UM-5</td><td>0.26103</td></tr><tr><td>UM-50</td><td>0.48897</td></tr><tr><td>k_value</td><td>200</td></tr></table><br/></div></div>"
      ],
      "text/plain": [
       "<IPython.core.display.HTML object>"
      ]
     },
     "metadata": {},
     "output_type": "display_data"
    },
    {
     "data": {
      "text/html": [
       " View run <strong style=\"color:#cdcd00\">generous-darkness-20</strong> at: <a href='https://wandb.ai/fgallego/Cross-encoder_KB_Enrichment/runs/6v9som8v' target=\"_blank\">https://wandb.ai/fgallego/Cross-encoder_KB_Enrichment/runs/6v9som8v</a><br/> View project at: <a href='https://wandb.ai/fgallego/Cross-encoder_KB_Enrichment' target=\"_blank\">https://wandb.ai/fgallego/Cross-encoder_KB_Enrichment</a><br/>Synced 6 W&B file(s), 0 media file(s), 3 artifact file(s) and 0 other file(s)"
      ],
      "text/plain": [
       "<IPython.core.display.HTML object>"
      ]
     },
     "metadata": {},
     "output_type": "display_data"
    },
    {
     "data": {
      "text/html": [
       "Find logs at: <code>./wandb/run-20240418_122935-6v9som8v/logs</code>"
      ],
      "text/plain": [
       "<IPython.core.display.HTML object>"
      ]
     },
     "metadata": {},
     "output_type": "display_data"
    }
   ],
   "source": [
    "candidates, codes, similarities = faiss_encoder.getCandidates(df_test[\"term\"].tolist(), k=200)\n",
    "df_test[\"candidates\"] = candidates\n",
    "df_test[\"codes\"] = codes\n",
    "evaluate(f\"../../models/cross-encoders/SapBERT_Multilingue_XLMR-large/cef_{CORPUS.lower()}_SapBERT_Multilingue_XLMR-large_bkg_1_cand_200_epoch_1_bs_64\", df_test, df_link_train, df_gaz, CORPUS, TOP_K_VALUES)"
   ]
  },
  {
   "cell_type": "code",
   "execution_count": 11,
   "metadata": {},
   "outputs": [
    {
     "name": "stderr",
     "output_type": "stream",
     "text": [
      "Encoding: 100%|██████████| 5218/5218 [01:04<00:00, 81.42it/s]\n",
      "Encoding: 100%|██████████| 45/45 [00:01<00:00, 40.34it/s]\n"
     ]
    }
   ],
   "source": [
    "BIENCODER_PATH = \"../../models/spanish_sapbert_models/sapbert_15_parents_1epoch/\"\n",
    "faiss_encoder = faiss_enc.FaissEncoder(BIENCODER_PATH, F_TYPE, MAX_LENGTH, df_train)\n",
    "faiss_encoder.fitFaiss()\n",
    "candidates, codes, similarities = faiss_encoder.getCandidates(df_test[\"term\"].tolist(), k=200)\n",
    "df_test[\"candidates\"] = candidates\n",
    "df_test[\"codes\"] = codes"
   ]
  },
  {
   "cell_type": "code",
   "execution_count": 15,
   "metadata": {},
   "outputs": [
    {
     "name": "stderr",
     "output_type": "stream",
     "text": [
      "Encoding: 100%|██████████| 45/45 [00:01<00:00, 39.79it/s]\n"
     ]
    },
    {
     "data": {
      "text/html": [
       "Finishing last run (ID:tu49e86s) before initializing another..."
      ],
      "text/plain": [
       "<IPython.core.display.HTML object>"
      ]
     },
     "metadata": {},
     "output_type": "display_data"
    },
    {
     "data": {
      "text/html": [
       " View run <strong style=\"color:#cdcd00\">sandy-waterfall-21</strong> at: <a href='https://wandb.ai/fgallego/Cross-encoder_KB_Enrichment/runs/tu49e86s' target=\"_blank\">https://wandb.ai/fgallego/Cross-encoder_KB_Enrichment/runs/tu49e86s</a><br/> View project at: <a href='https://wandb.ai/fgallego/Cross-encoder_KB_Enrichment' target=\"_blank\">https://wandb.ai/fgallego/Cross-encoder_KB_Enrichment</a><br/>Synced 6 W&B file(s), 0 media file(s), 0 artifact file(s) and 0 other file(s)"
      ],
      "text/plain": [
       "<IPython.core.display.HTML object>"
      ]
     },
     "metadata": {},
     "output_type": "display_data"
    },
    {
     "data": {
      "text/html": [
       "Find logs at: <code>./wandb/run-20240418_125516-tu49e86s/logs</code>"
      ],
      "text/plain": [
       "<IPython.core.display.HTML object>"
      ]
     },
     "metadata": {},
     "output_type": "display_data"
    },
    {
     "data": {
      "text/html": [
       "Successfully finished last run (ID:tu49e86s). Initializing new run:<br/>"
      ],
      "text/plain": [
       "<IPython.core.display.HTML object>"
      ]
     },
     "metadata": {},
     "output_type": "display_data"
    },
    {
     "data": {
      "text/html": [
       "Tracking run with wandb version 0.16.6"
      ],
      "text/plain": [
       "<IPython.core.display.HTML object>"
      ]
     },
     "metadata": {},
     "output_type": "display_data"
    },
    {
     "data": {
      "text/html": [
       "Run data is saved locally in <code>/home/fernandogd/Documents/Investigacion/Transformers/KnowledgeGraph/notebooks/wandb/run-20240418_125634-7s108eir</code>"
      ],
      "text/plain": [
       "<IPython.core.display.HTML object>"
      ]
     },
     "metadata": {},
     "output_type": "display_data"
    },
    {
     "data": {
      "text/html": [
       "Syncing run <strong><a href='https://wandb.ai/fgallego/Cross-encoder_KB_Enrichment/runs/7s108eir' target=\"_blank\">dainty-planet-22</a></strong> to <a href='https://wandb.ai/fgallego/Cross-encoder_KB_Enrichment' target=\"_blank\">Weights & Biases</a> (<a href='https://wandb.me/run' target=\"_blank\">docs</a>)<br/>"
      ],
      "text/plain": [
       "<IPython.core.display.HTML object>"
      ]
     },
     "metadata": {},
     "output_type": "display_data"
    },
    {
     "data": {
      "text/html": [
       " View project at <a href='https://wandb.ai/fgallego/Cross-encoder_KB_Enrichment' target=\"_blank\">https://wandb.ai/fgallego/Cross-encoder_KB_Enrichment</a>"
      ],
      "text/plain": [
       "<IPython.core.display.HTML object>"
      ]
     },
     "metadata": {},
     "output_type": "display_data"
    },
    {
     "data": {
      "text/html": [
       " View run at <a href='https://wandb.ai/fgallego/Cross-encoder_KB_Enrichment/runs/7s108eir' target=\"_blank\">https://wandb.ai/fgallego/Cross-encoder_KB_Enrichment/runs/7s108eir</a>"
      ],
      "text/plain": [
       "<IPython.core.display.HTML object>"
      ]
     },
     "metadata": {},
     "output_type": "display_data"
    },
    {
     "name": "stderr",
     "output_type": "stream",
     "text": [
      "Reranking candidates: 100%|██████████| 2848/2848 [05:01<00:00,  9.43it/s]\n"
     ]
    },
    {
     "data": {
      "text/html": [
       "<style>\n",
       "    table.wandb td:nth-child(1) { padding: 0 10px; text-align: left ; width: auto;} td:nth-child(2) {text-align: left ; width: 100%}\n",
       "    .wandb-row { display: flex; flex-direction: row; flex-wrap: wrap; justify-content: flex-start; width: 100% }\n",
       "    .wandb-col { display: flex; flex-direction: column; flex-basis: 100%; flex: 1; padding: 10px; }\n",
       "    </style>\n",
       "<div class=\"wandb-row\"><div class=\"wandb-col\"><h3>Run history:</h3><br/><table class=\"wandb\"><tr><td>Accuracy/Gold_Standard</td><td>▁▄▇▇██</td></tr><tr><td>Accuracy/Unseen_Codes</td><td>▁▄▇▇██</td></tr><tr><td>Accuracy/Unseen_Mentions</td><td>▁▄▇▇██</td></tr><tr><td>GS-1</td><td>▁</td></tr><tr><td>GS-100</td><td>▁</td></tr><tr><td>GS-200</td><td>▁</td></tr><tr><td>GS-25</td><td>▁</td></tr><tr><td>GS-5</td><td>▁</td></tr><tr><td>GS-50</td><td>▁</td></tr><tr><td>UC-1</td><td>▁</td></tr><tr><td>UC-100</td><td>▁</td></tr><tr><td>UC-200</td><td>▁</td></tr><tr><td>UC-25</td><td>▁</td></tr><tr><td>UC-5</td><td>▁</td></tr><tr><td>UC-50</td><td>▁</td></tr><tr><td>UM-1</td><td>▁</td></tr><tr><td>UM-100</td><td>▁</td></tr><tr><td>UM-200</td><td>▁</td></tr><tr><td>UM-25</td><td>▁</td></tr><tr><td>UM-5</td><td>▁</td></tr><tr><td>UM-50</td><td>▁</td></tr><tr><td>k_value</td><td>▁▁▂▃▄█▁▁▂▃▄█▁▁▂▃▄█</td></tr></table><br/></div><div class=\"wandb-col\"><h3>Run summary:</h3><br/><table class=\"wandb\"><tr><td>Accuracy/Gold_Standard</td><td>0.92837</td></tr><tr><td>Accuracy/Unseen_Codes</td><td>0.8399</td></tr><tr><td>Accuracy/Unseen_Mentions</td><td>0.82445</td></tr><tr><td>GS-1</td><td>0.59129</td></tr><tr><td>GS-100</td><td>0.92135</td></tr><tr><td>GS-200</td><td>0.92837</td></tr><tr><td>GS-25</td><td>0.86798</td></tr><tr><td>GS-5</td><td>0.74192</td></tr><tr><td>GS-50</td><td>0.90063</td></tr><tr><td>UC-1</td><td>0.3202</td></tr><tr><td>UC-100</td><td>0.82565</td></tr><tr><td>UC-200</td><td>0.8399</td></tr><tr><td>UC-25</td><td>0.73512</td></tr><tr><td>UC-5</td><td>0.53143</td></tr><tr><td>UC-50</td><td>0.78877</td></tr><tr><td>UM-1</td><td>0.26011</td></tr><tr><td>UM-100</td><td>0.80882</td></tr><tr><td>UM-200</td><td>0.82445</td></tr><tr><td>UM-25</td><td>0.71048</td></tr><tr><td>UM-5</td><td>0.48897</td></tr><tr><td>UM-50</td><td>0.76838</td></tr><tr><td>k_value</td><td>200</td></tr></table><br/></div></div>"
      ],
      "text/plain": [
       "<IPython.core.display.HTML object>"
      ]
     },
     "metadata": {},
     "output_type": "display_data"
    },
    {
     "data": {
      "text/html": [
       " View run <strong style=\"color:#cdcd00\">dainty-planet-22</strong> at: <a href='https://wandb.ai/fgallego/Cross-encoder_KB_Enrichment/runs/7s108eir' target=\"_blank\">https://wandb.ai/fgallego/Cross-encoder_KB_Enrichment/runs/7s108eir</a><br/> View project at: <a href='https://wandb.ai/fgallego/Cross-encoder_KB_Enrichment' target=\"_blank\">https://wandb.ai/fgallego/Cross-encoder_KB_Enrichment</a><br/>Synced 6 W&B file(s), 0 media file(s), 3 artifact file(s) and 0 other file(s)"
      ],
      "text/plain": [
       "<IPython.core.display.HTML object>"
      ]
     },
     "metadata": {},
     "output_type": "display_data"
    },
    {
     "data": {
      "text/html": [
       "Find logs at: <code>./wandb/run-20240418_125634-7s108eir/logs</code>"
      ],
      "text/plain": [
       "<IPython.core.display.HTML object>"
      ]
     },
     "metadata": {},
     "output_type": "display_data"
    }
   ],
   "source": [
    "candidates, codes, similarities = faiss_encoder.getCandidates(df_test[\"term\"].tolist(), k=200)\n",
    "df_test[\"candidates\"] = candidates\n",
    "df_test[\"codes\"] = codes\n",
    "evaluate(f\"../../models/cross-encoders/Spanish_SapBERT_parents/cef_{CORPUS.lower()}_Spanish_SapBERT_parents_sim_cand_200_epoch_1_bs_128\", mapping_dict, df_test, df_link_train, df_gaz, CORPUS, TOP_K_VALUES)"
   ]
  },
  {
   "cell_type": "code",
   "execution_count": 17,
   "metadata": {},
   "outputs": [
    {
     "name": "stderr",
     "output_type": "stream",
     "text": [
      "Encoding: 100%|██████████| 5218/5218 [01:02<00:00, 83.31it/s]\n",
      "Encoding: 100%|██████████| 45/45 [00:01<00:00, 40.54it/s]\n"
     ]
    }
   ],
   "source": [
    "BIENCODER_PATH = \"../../models/spanish_sapbert_models/sapbert_15_grandparents_1epoch/\"\n",
    "faiss_encoder = faiss_enc.FaissEncoder(BIENCODER_PATH, F_TYPE, MAX_LENGTH, df_train)\n",
    "faiss_encoder.fitFaiss()\n",
    "candidates, codes, similarities = faiss_encoder.getCandidates(df_test[\"term\"].tolist(), k=200)\n",
    "df_test[\"candidates\"] = candidates\n",
    "df_test[\"codes\"] = codes"
   ]
  },
  {
   "cell_type": "code",
   "execution_count": 18,
   "metadata": {},
   "outputs": [
    {
     "name": "stderr",
     "output_type": "stream",
     "text": [
      "Encoding: 100%|██████████| 45/45 [00:01<00:00, 38.51it/s]\n"
     ]
    },
    {
     "name": "stdout",
     "output_type": "stream",
     "text": [
      "cef_symptemist_Spanish_SapBERT_grandparents_sim_cand_200_epoch_1_bs_128\n"
     ]
    },
    {
     "data": {
      "text/html": [
       "Tracking run with wandb version 0.16.6"
      ],
      "text/plain": [
       "<IPython.core.display.HTML object>"
      ]
     },
     "metadata": {},
     "output_type": "display_data"
    },
    {
     "data": {
      "text/html": [
       "Run data is saved locally in <code>/home/fernandogd/Documents/Investigacion/Transformers/KnowledgeGraph/notebooks/wandb/run-20240418_130602-g33m7rza</code>"
      ],
      "text/plain": [
       "<IPython.core.display.HTML object>"
      ]
     },
     "metadata": {},
     "output_type": "display_data"
    },
    {
     "data": {
      "text/html": [
       "Syncing run <strong><a href='https://wandb.ai/fgallego/Cross-encoder_KB_Enrichment/runs/g33m7rza' target=\"_blank\">amber-waterfall-23</a></strong> to <a href='https://wandb.ai/fgallego/Cross-encoder_KB_Enrichment' target=\"_blank\">Weights & Biases</a> (<a href='https://wandb.me/run' target=\"_blank\">docs</a>)<br/>"
      ],
      "text/plain": [
       "<IPython.core.display.HTML object>"
      ]
     },
     "metadata": {},
     "output_type": "display_data"
    },
    {
     "data": {
      "text/html": [
       " View project at <a href='https://wandb.ai/fgallego/Cross-encoder_KB_Enrichment' target=\"_blank\">https://wandb.ai/fgallego/Cross-encoder_KB_Enrichment</a>"
      ],
      "text/plain": [
       "<IPython.core.display.HTML object>"
      ]
     },
     "metadata": {},
     "output_type": "display_data"
    },
    {
     "data": {
      "text/html": [
       " View run at <a href='https://wandb.ai/fgallego/Cross-encoder_KB_Enrichment/runs/g33m7rza' target=\"_blank\">https://wandb.ai/fgallego/Cross-encoder_KB_Enrichment/runs/g33m7rza</a>"
      ],
      "text/plain": [
       "<IPython.core.display.HTML object>"
      ]
     },
     "metadata": {},
     "output_type": "display_data"
    },
    {
     "name": "stderr",
     "output_type": "stream",
     "text": [
      "Reranking candidates: 100%|██████████| 2848/2848 [05:09<00:00,  9.19it/s]\n"
     ]
    },
    {
     "data": {
      "text/html": [
       "<style>\n",
       "    table.wandb td:nth-child(1) { padding: 0 10px; text-align: left ; width: auto;} td:nth-child(2) {text-align: left ; width: 100%}\n",
       "    .wandb-row { display: flex; flex-direction: row; flex-wrap: wrap; justify-content: flex-start; width: 100% }\n",
       "    .wandb-col { display: flex; flex-direction: column; flex-basis: 100%; flex: 1; padding: 10px; }\n",
       "    </style>\n",
       "<div class=\"wandb-row\"><div class=\"wandb-col\"><h3>Run history:</h3><br/><table class=\"wandb\"><tr><td>Accuracy/Gold_Standard</td><td>▁▄▇▇██</td></tr><tr><td>Accuracy/Unseen_Codes</td><td>▁▄▇▇██</td></tr><tr><td>Accuracy/Unseen_Mentions</td><td>▁▄▇▇██</td></tr><tr><td>GS-1</td><td>▁</td></tr><tr><td>GS-100</td><td>▁</td></tr><tr><td>GS-200</td><td>▁</td></tr><tr><td>GS-25</td><td>▁</td></tr><tr><td>GS-5</td><td>▁</td></tr><tr><td>GS-50</td><td>▁</td></tr><tr><td>UC-1</td><td>▁</td></tr><tr><td>UC-100</td><td>▁</td></tr><tr><td>UC-200</td><td>▁</td></tr><tr><td>UC-25</td><td>▁</td></tr><tr><td>UC-5</td><td>▁</td></tr><tr><td>UC-50</td><td>▁</td></tr><tr><td>UM-1</td><td>▁</td></tr><tr><td>UM-100</td><td>▁</td></tr><tr><td>UM-200</td><td>▁</td></tr><tr><td>UM-25</td><td>▁</td></tr><tr><td>UM-5</td><td>▁</td></tr><tr><td>UM-50</td><td>▁</td></tr><tr><td>k_value</td><td>▁▁▂▃▄█▁▁▂▃▄█▁▁▂▃▄█</td></tr></table><br/></div><div class=\"wandb-col\"><h3>Run summary:</h3><br/><table class=\"wandb\"><tr><td>Accuracy/Gold_Standard</td><td>0.93013</td></tr><tr><td>Accuracy/Unseen_Codes</td><td>0.84409</td></tr><tr><td>Accuracy/Unseen_Mentions</td><td>0.82996</td></tr><tr><td>GS-1</td><td>0.59059</td></tr><tr><td>GS-100</td><td>0.92486</td></tr><tr><td>GS-200</td><td>0.93013</td></tr><tr><td>GS-25</td><td>0.87254</td></tr><tr><td>GS-5</td><td>0.74508</td></tr><tr><td>GS-50</td><td>0.90379</td></tr><tr><td>UC-1</td><td>0.3135</td></tr><tr><td>UC-100</td><td>0.83738</td></tr><tr><td>UC-200</td><td>0.84409</td></tr><tr><td>UC-25</td><td>0.74769</td></tr><tr><td>UC-5</td><td>0.53311</td></tr><tr><td>UC-50</td><td>0.79966</td></tr><tr><td>UM-1</td><td>0.25276</td></tr><tr><td>UM-100</td><td>0.82261</td></tr><tr><td>UM-200</td><td>0.82996</td></tr><tr><td>UM-25</td><td>0.72426</td></tr><tr><td>UM-5</td><td>0.48989</td></tr><tr><td>UM-50</td><td>0.78125</td></tr><tr><td>k_value</td><td>200</td></tr></table><br/></div></div>"
      ],
      "text/plain": [
       "<IPython.core.display.HTML object>"
      ]
     },
     "metadata": {},
     "output_type": "display_data"
    },
    {
     "data": {
      "text/html": [
       " View run <strong style=\"color:#cdcd00\">amber-waterfall-23</strong> at: <a href='https://wandb.ai/fgallego/Cross-encoder_KB_Enrichment/runs/g33m7rza' target=\"_blank\">https://wandb.ai/fgallego/Cross-encoder_KB_Enrichment/runs/g33m7rza</a><br/> View project at: <a href='https://wandb.ai/fgallego/Cross-encoder_KB_Enrichment' target=\"_blank\">https://wandb.ai/fgallego/Cross-encoder_KB_Enrichment</a><br/>Synced 6 W&B file(s), 0 media file(s), 3 artifact file(s) and 0 other file(s)"
      ],
      "text/plain": [
       "<IPython.core.display.HTML object>"
      ]
     },
     "metadata": {},
     "output_type": "display_data"
    },
    {
     "data": {
      "text/html": [
       "Find logs at: <code>./wandb/run-20240418_130602-g33m7rza/logs</code>"
      ],
      "text/plain": [
       "<IPython.core.display.HTML object>"
      ]
     },
     "metadata": {},
     "output_type": "display_data"
    }
   ],
   "source": [
    "candidates, codes, similarities = faiss_encoder.getCandidates(df_test[\"term\"].tolist(), k=200)\n",
    "df_test[\"candidates\"] = candidates\n",
    "df_test[\"codes\"] = codes\n",
    "evaluate(f\"../../models/cross-encoders/Spanish_SapBERT_grandparents/cef_{CORPUS.lower()}_Spanish_SapBERT_grandparents_sim_cand_200_epoch_1_bs_128\", mapping_dict, df_test, df_link_train, df_gaz, CORPUS, TOP_K_VALUES)"
   ]
  }
 ],
 "metadata": {
  "kernelspec": {
   "display_name": "tf-torch-nel",
   "language": "python",
   "name": "python3"
  },
  "language_info": {
   "codemirror_mode": {
    "name": "ipython",
    "version": 3
   },
   "file_extension": ".py",
   "mimetype": "text/x-python",
   "name": "python",
   "nbconvert_exporter": "python",
   "pygments_lexer": "ipython3",
   "version": "3.10.14"
  }
 },
 "nbformat": 4,
 "nbformat_minor": 2
}
