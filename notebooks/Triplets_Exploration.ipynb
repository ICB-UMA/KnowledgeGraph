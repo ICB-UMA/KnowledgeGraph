{
 "cells": [
  {
   "cell_type": "code",
   "execution_count": 1,
   "metadata": {},
   "outputs": [],
   "source": [
    "import os, sys, warnings\n",
    "warnings.filterwarnings(\"ignore\")\n",
    "import pandas as pd\n",
    "import pickle\n",
    "import gc\n",
    "\n",
    "from tqdm.auto import tqdm\n",
    "sys.path.append(os.path.join(os.getcwd(), '../src'))\n",
    "import faissEncoder as faiss_enc\n",
    "import tripletsGeneration as tg\n",
    "from utils import *"
   ]
  },
  {
   "cell_type": "code",
   "execution_count": 2,
   "metadata": {},
   "outputs": [],
   "source": [
    "DATA_PATH = \"../../data/\"\n",
    "F_TYPE = \"FlatIP\"\n",
    "MAX_LENGTH = 256\n",
    "CORPORA = [\"DisTEMIST\", \"MedProcNER\", \"SympTEMIST\"]\n",
    "ClinLinker_model = {\n",
    "    \"DisTEMIST\" : \"ClinLinker-KB-GP\",\n",
    "    \"MedProcNER\" : \"ClinLinker-KB-GP\",\n",
    "    \"SympTEMIST\" : \"ClinLinker-KB-P\"\n",
    "}"
   ]
  },
  {
   "cell_type": "code",
   "execution_count": 3,
   "metadata": {},
   "outputs": [
    {
     "data": {
      "application/vnd.jupyter.widget-view+json": {
       "model_id": "08546bb6f4ed4b3dbc7bb313bd7dd49b",
       "version_major": 2,
       "version_minor": 0
      },
      "text/plain": [
       "Encoding:   0%|          | 0/4603 [00:00<?, ?it/s]"
      ]
     },
     "metadata": {},
     "output_type": "display_data"
    },
    {
     "data": {
      "application/vnd.jupyter.widget-view+json": {
       "model_id": "13dc3eb5771b4375ab7afa8f31b9b4a3",
       "version_major": 2,
       "version_minor": 0
      },
      "text/plain": [
       "Encoding:   0%|          | 0/15 [00:00<?, ?it/s]"
      ]
     },
     "metadata": {},
     "output_type": "display_data"
    },
    {
     "data": {
      "application/vnd.jupyter.widget-view+json": {
       "model_id": "04192c3356bf440aad5a6488eca2c971",
       "version_major": 2,
       "version_minor": 0
      },
      "text/plain": [
       "Encoding:   0%|          | 0/7334 [00:00<?, ?it/s]"
      ]
     },
     "metadata": {},
     "output_type": "display_data"
    },
    {
     "data": {
      "application/vnd.jupyter.widget-view+json": {
       "model_id": "11cb5b66b2284ab490d619969c617f7b",
       "version_major": 2,
       "version_minor": 0
      },
      "text/plain": [
       "Encoding:   0%|          | 0/19 [00:00<?, ?it/s]"
      ]
     },
     "metadata": {},
     "output_type": "display_data"
    },
    {
     "data": {
      "application/vnd.jupyter.widget-view+json": {
       "model_id": "6817bdb2c0354ccba7749140451db08c",
       "version_major": 2,
       "version_minor": 0
      },
      "text/plain": [
       "Encoding:   0%|          | 0/5151 [00:00<?, ?it/s]"
      ]
     },
     "metadata": {},
     "output_type": "display_data"
    },
    {
     "data": {
      "application/vnd.jupyter.widget-view+json": {
       "model_id": "34566b6d68ce4b1aa7279202e10decd0",
       "version_major": 2,
       "version_minor": 0
      },
      "text/plain": [
       "Encoding:   0%|          | 0/33 [00:00<?, ?it/s]"
      ]
     },
     "metadata": {},
     "output_type": "display_data"
    }
   ],
   "source": [
    "with open(\"../src/graph_G.pkl\", \"rb\") as f:\n",
    "    G = pickle.load(f)\n",
    "with open(\"../src/scui_to_cui_dict.pkl\", \"rb\") as handle:\n",
    "    mapping_dict = pickle.load(handle)\n",
    "triplets_size = list()\n",
    "for CORPUS in CORPORA:\n",
    "    \n",
    "    _, df_train_link, df_gaz = load_corpus_data(DATA_PATH, CORPUS)\n",
    "\n",
    "    if ClinLinker_model[CORPUS] == \"ClinLinker-KB-GP\":\n",
    "            be_path = f\"../../models/NEL/spanish_sapbert_models/sapbert_15_grandparents_1epoch/\"\n",
    "    elif ClinLinker_model[CORPUS] == \"ClinLinker-KB-P\":\n",
    "        be_path = \"../../models/NEL/spanish_sapbert_models/sapbert_15_parents_1epoch/\"\n",
    "\n",
    "    faiss_encoder = faiss_enc.FaissEncoder(be_path, F_TYPE, MAX_LENGTH, df_gaz)\n",
    "    faiss_encoder.fitFaiss()\n",
    "    candidates, codes, similarities = faiss_encoder.getCandidates(df_train_link[\"term\"].tolist(), 200, MAX_LENGTH)\n",
    "\n",
    "    df_train_link[\"candidates\"] = candidates\n",
    "    df_train_link[\"codes\"] = codes\n",
    "    df_train_link[\"similarities\"] = similarities\n",
    "    sim_triplets = tg.SimilarityHardTriplets(df_train_link).generate_triplets(similarity_threshold=0.35).drop_duplicates().reset_index(drop=True).shape[0]\n",
    "    kg_1_triplets = tg.HardTripletsKG(df_train_link, G, mapping_dict, 1, bidirectional=False).generate_triplets().drop_duplicates().reset_index(drop=True).shape[0]\n",
    "    bkg_1_triplets = tg.HardTripletsKG(df_train_link, G, mapping_dict, 1, bidirectional=True).generate_triplets().drop_duplicates().reset_index(drop=True).shape[0]\n",
    "    kg_2_triplets = tg.HardTripletsKG(df_train_link, G, mapping_dict, 2, bidirectional=False).generate_triplets().drop_duplicates().reset_index(drop=True).shape[0]\n",
    "    bkg_2_triplets = tg.HardTripletsKG(df_train_link, G, mapping_dict, 2, bidirectional=True).generate_triplets().drop_duplicates().reset_index(drop=True).shape[0]\n",
    "    triplets_size.append([CORPUS,sim_triplets, kg_1_triplets, bkg_1_triplets, kg_2_triplets, bkg_2_triplets])\n",
    "    gc.collect()"
   ]
  },
  {
   "cell_type": "code",
   "execution_count": 4,
   "metadata": {},
   "outputs": [
    {
     "data": {
      "text/html": [
       "<div>\n",
       "<style scoped>\n",
       "    .dataframe tbody tr th:only-of-type {\n",
       "        vertical-align: middle;\n",
       "    }\n",
       "\n",
       "    .dataframe tbody tr th {\n",
       "        vertical-align: top;\n",
       "    }\n",
       "\n",
       "    .dataframe thead th {\n",
       "        text-align: right;\n",
       "    }\n",
       "</style>\n",
       "<table border=\"1\" class=\"dataframe\">\n",
       "  <thead>\n",
       "    <tr style=\"text-align: right;\">\n",
       "      <th></th>\n",
       "      <th>corpus</th>\n",
       "      <th>sim</th>\n",
       "      <th>kg_1</th>\n",
       "      <th>bkg_1</th>\n",
       "      <th>kg_2</th>\n",
       "      <th>bkg_2</th>\n",
       "    </tr>\n",
       "  </thead>\n",
       "  <tbody>\n",
       "    <tr>\n",
       "      <th>0</th>\n",
       "      <td>DisTEMIST</td>\n",
       "      <td>426646</td>\n",
       "      <td>5484631</td>\n",
       "      <td>16131267</td>\n",
       "      <td>7645351</td>\n",
       "      <td>121865655</td>\n",
       "    </tr>\n",
       "    <tr>\n",
       "      <th>1</th>\n",
       "      <td>MedProcNER</td>\n",
       "      <td>514424</td>\n",
       "      <td>7252631</td>\n",
       "      <td>24825237</td>\n",
       "      <td>9321604</td>\n",
       "      <td>139258253</td>\n",
       "    </tr>\n",
       "    <tr>\n",
       "      <th>2</th>\n",
       "      <td>SympTEMIST</td>\n",
       "      <td>986499</td>\n",
       "      <td>12063769</td>\n",
       "      <td>20892503</td>\n",
       "      <td>15989653</td>\n",
       "      <td>181462527</td>\n",
       "    </tr>\n",
       "  </tbody>\n",
       "</table>\n",
       "</div>"
      ],
      "text/plain": [
       "       corpus     sim      kg_1     bkg_1      kg_2      bkg_2\n",
       "0   DisTEMIST  426646   5484631  16131267   7645351  121865655\n",
       "1  MedProcNER  514424   7252631  24825237   9321604  139258253\n",
       "2  SympTEMIST  986499  12063769  20892503  15989653  181462527"
      ]
     },
     "execution_count": 4,
     "metadata": {},
     "output_type": "execute_result"
    }
   ],
   "source": [
    "pd.DataFrame(triplets_size, columns=[\"corpus\", \"sim\", \"kg_1\", \"bkg_1\", \"kg_2\", \"bkg_2\"]).head(10)"
   ]
  },
  {
   "cell_type": "code",
   "execution_count": 5,
   "metadata": {},
   "outputs": [
    {
     "data": {
      "text/plain": [
       "[['DisTEMIST', 426646, 5484631, 16131267, 7645351, 121865655],\n",
       " ['MedProcNER', 514424, 7252631, 24825237, 9321604, 139258253],\n",
       " ['SympTEMIST', 986499, 12063769, 20892503, 15989653, 181462527]]"
      ]
     },
     "execution_count": 5,
     "metadata": {},
     "output_type": "execute_result"
    }
   ],
   "source": [
    "triplets_size"
   ]
  }
 ],
 "metadata": {
  "kernelspec": {
   "display_name": "x-men",
   "language": "python",
   "name": "python3"
  },
  "language_info": {
   "codemirror_mode": {
    "name": "ipython",
    "version": 3
   },
   "file_extension": ".py",
   "mimetype": "text/x-python",
   "name": "python",
   "nbconvert_exporter": "python",
   "pygments_lexer": "ipython3",
   "version": "3.10.14"
  }
 },
 "nbformat": 4,
 "nbformat_minor": 2
}
