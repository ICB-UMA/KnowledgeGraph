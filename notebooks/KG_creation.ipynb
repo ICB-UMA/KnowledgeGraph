{
 "cells": [
  {
   "cell_type": "code",
   "execution_count": null,
   "metadata": {},
   "outputs": [],
   "source": [
    "import pandas as pd\n",
    "import os\n",
    "import networkx as nx\n",
    "import pickle\n",
    "import sys\n",
    "\n",
    "sys.path.append('../')\n",
    "from src.utils import utils"
   ]
  },
  {
   "cell_type": "code",
   "execution_count": null,
   "metadata": {},
   "outputs": [],
   "source": [
    "PATH = \"../data/UMLS/2023AA/META/\"\n",
    "CHUNK_SIZE = 500000"
   ]
  },
  {
   "cell_type": "code",
   "execution_count": null,
   "metadata": {},
   "outputs": [],
   "source": [
    "\n",
    "colnames = utils.extract_column_names_from_ctl_file(os.path.join(PATH, \"MRCONSO.ctl\"))\n",
    "df_conso = utils.read_rrf_file_in_chunks(os.path.join(PATH, \"MRCONSO.RRF\"), CHUNK_SIZE, colnames, dtype_dict={\"CUI\": str})\n",
    "df_conso.head()"
   ]
  },
  {
   "cell_type": "code",
   "execution_count": null,
   "metadata": {},
   "outputs": [],
   "source": [
    "colnames = utils.extract_column_names_from_ctl_file(os.path.join(PATH, \"MRHIER.ctl\"))\n",
    "df_hier = utils.read_rrf_file_in_chunks(os.path.join(PATH, \"MRHIER.RRF\"), CHUNK_SIZE, colnames, dtype_dict={\"CUI\": str})\n"
   ]
  },
  {
   "cell_type": "code",
   "execution_count": null,
   "metadata": {},
   "outputs": [],
   "source": [
    "df_conso_sn = df_conso[df_conso['SAB'].isin([\"SNOMEDCT_US\", \"SCTSPA\"])]\n",
    "scui_to_cui_dict = df_conso_sn.groupby('SCUI')['CUI'].agg(lambda x: list(set(x))).to_dict()\n",
    "aui_to_cui_dict = df_conso_sn.set_index('AUI')['CUI'].to_dict()\n",
    "df_hier['CUI1'] = df_hier['PAUI'].map(aui_to_cui_dict).dropna()\n",
    "df_hier.rename(columns={'CUI': 'CUI2'}, inplace=True)\n",
    "df_parent_child = df_hier[['CUI1', 'CUI2']].dropna().drop_duplicates()\n",
    "df_parent_child.head()"
   ]
  },
  {
   "cell_type": "code",
   "execution_count": null,
   "metadata": {},
   "outputs": [],
   "source": [
    "df_conso_sn_esp = df_conso_sn[df_conso_sn.LAT == \"SPA\"]"
   ]
  },
  {
   "cell_type": "code",
   "execution_count": null,
   "metadata": {},
   "outputs": [],
   "source": [
    "grouped = df_conso_sn_esp.groupby('CUI')['STR'].agg(lambda x: list(set([str for str in x if str.strip() != '']))).reset_index()\n",
    "\n",
    "G = nx.DiGraph()\n",
    "\n",
    "for index, row in grouped.iterrows():\n",
    "    G.add_node(row['CUI'], name=row['STR'])\n",
    "\n",
    "for index, row in df_parent_child.iterrows():\n",
    "    G.add_edge(row['CUI1'], row['CUI2'])\n"
   ]
  },
  {
   "cell_type": "code",
   "execution_count": null,
   "metadata": {},
   "outputs": [],
   "source": [
    "with open('scui_to_cui_dict.pkl', 'wb') as f:\n",
    "    pickle.dump(scui_to_cui_dict, f)\n",
    "\n",
    "with open('graph_G.pkl', 'wb') as f:\n",
    "    pickle.dump(G, f)"
   ]
  }
 ],
 "metadata": {
  "kernelspec": {
   "display_name": "kg_env",
   "language": "python",
   "name": "python3"
  },
  "language_info": {
   "name": "python",
   "version": "3.10.14"
  }
 },
 "nbformat": 4,
 "nbformat_minor": 2
}
